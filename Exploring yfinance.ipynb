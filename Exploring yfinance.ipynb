{
 "cells": [
  {
   "cell_type": "code",
   "execution_count": 1,
   "metadata": {},
   "outputs": [
    {
     "name": "stdout",
     "output_type": "stream",
     "text": [
      "Driver Class for Bombay Stock Exchange\n"
     ]
    }
   ],
   "source": [
    "from bselib.bse import BSE\n",
    "b = BSE()\n",
    "print(b)\n",
    "# Output:\n",
    "#Driver Class for Bombay Stock Exchange"
   ]
  },
  {
   "cell_type": "code",
   "execution_count": 2,
   "metadata": {},
   "outputs": [
    {
     "name": "stdout",
     "output_type": "stream",
     "text": [
      "Collecting yfinance\n",
      "  Downloading yfinance-0.1.55.tar.gz (23 kB)\n",
      "Requirement already satisfied: pandas>=0.24 in /Users/shaleen/opt/anaconda3/lib/python3.8/site-packages (from yfinance) (1.1.3)\n",
      "Requirement already satisfied: numpy>=1.15 in /Users/shaleen/opt/anaconda3/lib/python3.8/site-packages (from yfinance) (1.19.2)\n",
      "Requirement already satisfied: requests>=2.20 in /Users/shaleen/opt/anaconda3/lib/python3.8/site-packages (from yfinance) (2.24.0)\n",
      "Collecting multitasking>=0.0.7\n",
      "  Downloading multitasking-0.0.9.tar.gz (8.1 kB)\n",
      "Requirement already satisfied: lxml>=4.5.1 in /Users/shaleen/opt/anaconda3/lib/python3.8/site-packages (from yfinance) (4.6.1)\n",
      "Requirement already satisfied: python-dateutil>=2.7.3 in /Users/shaleen/opt/anaconda3/lib/python3.8/site-packages (from pandas>=0.24->yfinance) (2.8.1)\n",
      "Requirement already satisfied: pytz>=2017.2 in /Users/shaleen/opt/anaconda3/lib/python3.8/site-packages (from pandas>=0.24->yfinance) (2020.1)\n",
      "Requirement already satisfied: certifi>=2017.4.17 in /Users/shaleen/opt/anaconda3/lib/python3.8/site-packages (from requests>=2.20->yfinance) (2020.6.20)\n",
      "Requirement already satisfied: chardet<4,>=3.0.2 in /Users/shaleen/opt/anaconda3/lib/python3.8/site-packages (from requests>=2.20->yfinance) (3.0.4)\n",
      "Requirement already satisfied: urllib3!=1.25.0,!=1.25.1,<1.26,>=1.21.1 in /Users/shaleen/opt/anaconda3/lib/python3.8/site-packages (from requests>=2.20->yfinance) (1.25.11)\n",
      "Requirement already satisfied: idna<3,>=2.5 in /Users/shaleen/opt/anaconda3/lib/python3.8/site-packages (from requests>=2.20->yfinance) (2.10)\n",
      "Requirement already satisfied: six>=1.5 in /Users/shaleen/opt/anaconda3/lib/python3.8/site-packages (from python-dateutil>=2.7.3->pandas>=0.24->yfinance) (1.15.0)\n",
      "Building wheels for collected packages: yfinance, multitasking\n",
      "  Building wheel for yfinance (setup.py) ... \u001b[?25ldone\n",
      "\u001b[?25h  Created wheel for yfinance: filename=yfinance-0.1.55-py2.py3-none-any.whl size=22618 sha256=14e7407d55c58430e6dd41dc1aa4379723b0dc39b9d5062f5c80d2851bb28c48\n",
      "  Stored in directory: /Users/shaleen/Library/Caches/pip/wheels/b4/c3/39/9c01ae2b4726f37024bba5592bec868b47a2fab5a786e8979a\n",
      "  Building wheel for multitasking (setup.py) ... \u001b[?25ldone\n",
      "\u001b[?25h  Created wheel for multitasking: filename=multitasking-0.0.9-py3-none-any.whl size=8367 sha256=ae3f565d6ac2e66c2c8de14f34bdf29f1827a7d42954b9335d9d23eee73f703d\n",
      "  Stored in directory: /Users/shaleen/Library/Caches/pip/wheels/57/6d/a3/a39b839cc75274d2acfb1c58bfead2f726c6577fe8c4723f13\n",
      "Successfully built yfinance multitasking\n",
      "Installing collected packages: multitasking, yfinance\n",
      "Successfully installed multitasking-0.0.9 yfinance-0.1.55\n"
     ]
    }
   ],
   "source": [
    "!pip install yfinance"
   ]
  },
  {
   "cell_type": "code",
   "execution_count": 3,
   "metadata": {},
   "outputs": [
    {
     "name": "stdout",
     "output_type": "stream",
     "text": [
      "{'zip': '98052-6399', 'sector': 'Technology', 'fullTimeEmployees': 163000, 'longBusinessSummary': 'Microsoft Corporation develops, licenses, and supports software, services, devices, and solutions worldwide. Its Productivity and Business Processes segment offers Office, Exchange, SharePoint, Microsoft Teams, Office 365 Security and Compliance, and Skype for Business, as well as related Client Access Licenses (CAL); Skype, Outlook.com, OneDrive, and LinkedIn; and Dynamics 365, a set of cloud-based and on-premises business solutions for small and medium businesses, large organizations, and divisions of enterprises. Its Intelligent Cloud segment licenses SQL and Windows Servers, Visual Studio, System Center, and related CALs; GitHub that provides a collaboration platform and code hosting service for developers; and Azure, a cloud platform. It also offers support services and Microsoft consulting services to assist customers in developing, deploying, and managing Microsoft server and desktop solutions; and training and certification to developers and IT professionals on various Microsoft products. Its More Personal Computing segment provides Windows original equipment manufacturer (OEM) licensing and other non-volume licensing of the Windows operating system; Windows Commercial, such as volume licensing of the Windows operating system, Windows cloud services, and other Windows commercial offerings; patent licensing; Windows Internet of Things; and MSN advertising. It also offers Surface, PC accessories, PCs, tablets, gaming and entertainment consoles, and other devices; Gaming, including Xbox hardware, and Xbox content and services; video games and third-party video game royalties; and Search, including Bing and Microsoft advertising. It sells its products through OEMs, distributors, and resellers; and directly through digital marketplaces, online stores, and retail stores. It has a strategic collaboration with DXC Technology. The company was founded in 1975 and is headquartered in Redmond, Washington.', 'city': 'Redmond', 'phone': '425-882-8080', 'state': 'WA', 'country': 'United States', 'companyOfficers': [], 'website': 'http://www.microsoft.com', 'maxAge': 1, 'address1': 'One Microsoft Way', 'industry': 'Software—Infrastructure', 'previousClose': 239.51, 'regularMarketOpen': 239.57, 'twoHundredDayAverage': 214.8, 'trailingAnnualDividendYield': 0.0089349095, 'payoutRatio': 0.31149998, 'volume24Hr': None, 'regularMarketDayHigh': 245.09, 'navPrice': None, 'averageDailyVolume10Day': 41263662, 'totalAssets': None, 'regularMarketPreviousClose': 239.51, 'fiftyDayAverage': 223.65121, 'trailingAnnualDividendRate': 2.14, 'open': 239.57, 'toCurrency': None, 'averageVolume10days': 41263662, 'expireDate': None, 'yield': None, 'algorithm': None, 'dividendRate': 2.24, 'exDividendDate': 1613520000, 'beta': 0.816969, 'circulatingSupply': None, 'startDate': None, 'regularMarketDayLow': 239.26, 'priceHint': 2, 'currency': 'USD', 'trailingPE': 36.230804, 'regularMarketVolume': 27158104, 'lastMarket': None, 'maxSupply': None, 'openInterest': None, 'marketCap': 1832759459840, 'volumeAllCurrencies': None, 'strikePrice': None, 'averageVolume': 29746783, 'priceToSalesTrailing12Months': 11.956626, 'dayLow': 239.26, 'ask': 243.55, 'ytdReturn': None, 'askSize': 800, 'volume': 27158104, 'fiftyTwoWeekHigh': 245.09, 'forwardPE': 30.037083, 'fromCurrency': None, 'fiveYearAvgDividendYield': 1.71, 'fiftyTwoWeekLow': 132.52, 'bid': 243.05, 'tradeable': False, 'dividendYield': 0.0092, 'bidSize': 800, 'dayHigh': 245.09, 'exchange': 'NMS', 'shortName': 'Microsoft Corporation', 'longName': 'Microsoft Corporation', 'exchangeTimezoneName': 'America/New_York', 'exchangeTimezoneShortName': 'EST', 'isEsgPopulated': False, 'gmtOffSetMilliseconds': '-18000000', 'quoteType': 'EQUITY', 'symbol': 'MSFT', 'messageBoardId': 'finmb_21835', 'market': 'us_market', 'annualHoldingsTurnover': None, 'enterpriseToRevenue': 11.636, 'beta3Year': None, 'profitMargins': 0.33473998, 'enterpriseToEbitda': 24.88, '52WeekChange': 0.32331312, 'morningStarRiskRating': None, 'forwardEps': 8.09, 'revenueQuarterlyGrowth': None, 'sharesOutstanding': 7560500224, 'fundInceptionDate': None, 'annualReportExpenseRatio': None, 'bookValue': 17.259, 'sharesShort': 41952779, 'sharesPercentSharesOut': 0.0056, 'fundFamily': None, 'lastFiscalYearEnd': 1593475200, 'heldPercentInstitutions': 0.71844, 'netIncomeToCommon': 51309998080, 'trailingEps': 6.707, 'lastDividendValue': 0.56, 'SandP52WeekChange': 0.14477634, 'priceToBook': 14.07961, 'heldPercentInsiders': 0.00059, 'nextFiscalYearEnd': 1656547200, 'mostRecentQuarter': 1609372800, 'shortRatio': 1.54, 'sharesShortPreviousMonthDate': 1607990400, 'floatShares': 7431722306, 'enterpriseValue': 1783551492096, 'threeYearAverageReturn': None, 'lastSplitDate': 1045526400, 'lastSplitFactor': '2:1', 'legalType': None, 'lastDividendDate': 1605657600, 'morningStarOverallRating': None, 'earningsQuarterlyGrowth': 0.327, 'dateShortInterest': 1610668800, 'pegRatio': 1.82, 'lastCapGain': None, 'shortPercentOfFloat': 0.0056, 'sharesShortPriorMonth': 39913925, 'impliedSharesOutstanding': None, 'category': None, 'fiveYearAverageReturn': None, 'regularMarketPrice': 239.57, 'logo_url': 'https://logo.clearbit.com/microsoft.com'}\n"
     ]
    }
   ],
   "source": [
    "import yfinance as yf\n",
    "\n",
    "msft = yf.Ticker(\"MSFT\")\n",
    "\n",
    "# get stock info\n",
    "print(msft.info)\n",
    "\n",
    "# get historical market data\n",
    "hist = msft.history(period=\"5d\")"
   ]
  },
  {
   "cell_type": "code",
   "execution_count": 4,
   "metadata": {},
   "outputs": [
    {
     "name": "stdout",
     "output_type": "stream",
     "text": [
      "Requirement already satisfied: matplotlib in /Users/shaleen/opt/anaconda3/lib/python3.8/site-packages (3.3.2)\n",
      "Requirement already satisfied: cycler>=0.10 in /Users/shaleen/opt/anaconda3/lib/python3.8/site-packages (from matplotlib) (0.10.0)\n",
      "Requirement already satisfied: pyparsing!=2.0.4,!=2.1.2,!=2.1.6,>=2.0.3 in /Users/shaleen/opt/anaconda3/lib/python3.8/site-packages (from matplotlib) (2.4.7)\n",
      "Requirement already satisfied: pillow>=6.2.0 in /Users/shaleen/opt/anaconda3/lib/python3.8/site-packages (from matplotlib) (8.0.1)\n",
      "Requirement already satisfied: certifi>=2020.06.20 in /Users/shaleen/opt/anaconda3/lib/python3.8/site-packages (from matplotlib) (2020.6.20)\n",
      "Requirement already satisfied: kiwisolver>=1.0.1 in /Users/shaleen/opt/anaconda3/lib/python3.8/site-packages (from matplotlib) (1.3.0)\n",
      "Requirement already satisfied: numpy>=1.15 in /Users/shaleen/opt/anaconda3/lib/python3.8/site-packages (from matplotlib) (1.19.2)\n",
      "Requirement already satisfied: python-dateutil>=2.1 in /Users/shaleen/opt/anaconda3/lib/python3.8/site-packages (from matplotlib) (2.8.1)\n",
      "Requirement already satisfied: six in /Users/shaleen/opt/anaconda3/lib/python3.8/site-packages (from cycler>=0.10->matplotlib) (1.15.0)\n",
      "Requirement already satisfied: seaborn in /Users/shaleen/opt/anaconda3/lib/python3.8/site-packages (0.11.0)\n",
      "Requirement already satisfied: numpy>=1.15 in /Users/shaleen/opt/anaconda3/lib/python3.8/site-packages (from seaborn) (1.19.2)\n",
      "Requirement already satisfied: matplotlib>=2.2 in /Users/shaleen/opt/anaconda3/lib/python3.8/site-packages (from seaborn) (3.3.2)\n",
      "Requirement already satisfied: scipy>=1.0 in /Users/shaleen/opt/anaconda3/lib/python3.8/site-packages (from seaborn) (1.5.2)\n",
      "Requirement already satisfied: pandas>=0.23 in /Users/shaleen/opt/anaconda3/lib/python3.8/site-packages (from seaborn) (1.1.3)\n",
      "Requirement already satisfied: certifi>=2020.06.20 in /Users/shaleen/opt/anaconda3/lib/python3.8/site-packages (from matplotlib>=2.2->seaborn) (2020.6.20)\n",
      "Requirement already satisfied: python-dateutil>=2.1 in /Users/shaleen/opt/anaconda3/lib/python3.8/site-packages (from matplotlib>=2.2->seaborn) (2.8.1)\n",
      "Requirement already satisfied: kiwisolver>=1.0.1 in /Users/shaleen/opt/anaconda3/lib/python3.8/site-packages (from matplotlib>=2.2->seaborn) (1.3.0)\n",
      "Requirement already satisfied: pillow>=6.2.0 in /Users/shaleen/opt/anaconda3/lib/python3.8/site-packages (from matplotlib>=2.2->seaborn) (8.0.1)\n",
      "Requirement already satisfied: cycler>=0.10 in /Users/shaleen/opt/anaconda3/lib/python3.8/site-packages (from matplotlib>=2.2->seaborn) (0.10.0)\n",
      "Requirement already satisfied: pyparsing!=2.0.4,!=2.1.2,!=2.1.6,>=2.0.3 in /Users/shaleen/opt/anaconda3/lib/python3.8/site-packages (from matplotlib>=2.2->seaborn) (2.4.7)\n",
      "Requirement already satisfied: pytz>=2017.2 in /Users/shaleen/opt/anaconda3/lib/python3.8/site-packages (from pandas>=0.23->seaborn) (2020.1)\n",
      "Requirement already satisfied: six>=1.5 in /Users/shaleen/opt/anaconda3/lib/python3.8/site-packages (from python-dateutil>=2.1->matplotlib>=2.2->seaborn) (1.15.0)\n"
     ]
    }
   ],
   "source": [
    "!pip install matplotlib\n",
    "!pip install seaborn"
   ]
  },
  {
   "cell_type": "code",
   "execution_count": 5,
   "metadata": {},
   "outputs": [
    {
     "data": {
      "text/plain": [
       "<AxesSubplot:xlabel='Date'>"
      ]
     },
     "execution_count": 5,
     "metadata": {},
     "output_type": "execute_result"
    },
    {
     "data": {
      "image/png": "[encoded data removed]",
      "text/plain": [
       "<Figure size 1152x648 with 1 Axes>"
      ]
     },
     "metadata": {
      "needs_background": "light"
     },
     "output_type": "display_data"
    }
   ],
   "source": [
    "import matplotlib.pyplot as plt\n",
    "import seaborn\n",
    "\n",
    "# Plot everything by leveraging the very powerful matplotlib package\n",
    "hist['Close'].plot(figsize=(16, 9))"
   ]
  },
  {
   "cell_type": "code",
   "execution_count": 6,
   "metadata": {},
   "outputs": [
    {
     "name": "stdout",
     "output_type": "stream",
     "text": [
      "[*********************100%***********************]  1 of 1 completed\n"
     ]
    }
   ],
   "source": [
    "# Download stock data then export as CSV\n",
    "data_df = yf.download(\"AAPL\", start=\"2020-02-01\", end=\"2020-03-20\")\n",
    "data_df.to_csv('aapl.csv')"
   ]
  },
  {
   "cell_type": "code",
   "execution_count": 7,
   "metadata": {},
   "outputs": [
    {
     "name": "stdout",
     "output_type": "stream",
     "text": [
      "                 Open       High        Low      Close  Adj Close     Volume\n",
      "Date                                                                        \n",
      "2020-01-31  80.232498  80.669998  77.072502  77.377502  76.714989  199588400\n",
      "2020-02-03  76.074997  78.372498  75.555000  77.165001  76.504311  173985600\n",
      "2020-02-04  78.827499  79.910004  78.407501  79.712502  79.029999  136616400\n",
      "2020-02-05  80.879997  81.190002  79.737503  80.362503  79.674438  118826800\n",
      "2020-02-06  80.642502  81.305000  80.065002  81.302498  80.606384  105425600\n",
      "2020-02-07  80.592499  80.849998  79.500000  80.007500  79.510727  117684000\n",
      "2020-02-10  78.544998  80.387497  78.462502  80.387497  79.888359  109348800\n",
      "2020-02-11  80.900002  80.974998  79.677498  79.902496  79.406372   94323200\n",
      "2020-02-12  80.367500  81.805000  80.367500  81.800003  81.292099  113730400\n",
      "2020-02-13  81.047501  81.555000  80.837502  81.217499  80.713219   94747600\n",
      "2020-02-14  81.184998  81.495003  80.712502  81.237503  80.733086   80113600\n",
      "2020-02-18  78.839996  79.937500  78.652496  79.750000  79.254822  152531200\n",
      "2020-02-19  80.000000  81.142502  80.000000  80.904999  80.402649   93984000\n",
      "2020-02-20  80.657501  81.162498  79.552498  80.074997  79.577805  100566000\n",
      "2020-02-21  79.654999  80.112503  77.625000  78.262497  77.776558  129554000\n",
      "2020-02-24  74.315002  76.044998  72.307503  74.544998  74.082146  222195200\n",
      "2020-02-25  75.237503  75.632500  71.532501  72.019997  71.572823  230673600\n",
      "2020-02-26  71.632500  74.470001  71.625000  73.162498  72.708221  198054800\n",
      "2020-02-27  70.275002  71.500000  68.239998  68.379997  67.955421  320605600\n",
      "2020-02-28  64.315002  69.602501  64.092499  68.339996  67.915665  426884800\n",
      "2020-03-02  70.570000  75.360001  69.430000  74.702499  74.238663  341397200\n",
      "2020-03-03  75.917503  76.000000  71.449997  72.330002  71.880898  319475600\n",
      "2020-03-04  74.110001  75.849998  73.282501  75.684998  75.215065  219178400\n",
      "2020-03-05  73.879997  74.887497  72.852501  73.230003  72.775307  187572800\n",
      "2020-03-06  70.500000  72.705002  70.307503  72.257500  71.808846  226176800\n",
      "2020-03-09  65.937500  69.522499  65.750000  66.542503  66.129333  286744800\n",
      "2020-03-10  69.285004  71.610001  67.342499  71.334999  70.892075  285290000\n",
      "2020-03-11  69.347504  70.305000  67.964996  68.857498  68.429955  255598800\n",
      "2020-03-12  63.985001  67.500000  62.000000  62.057499  61.672176  418474000\n",
      "2020-03-13  66.222504  69.980003  63.237499  69.492500  69.061012  370732000\n",
      "2020-03-16  60.487499  64.769997  60.000000  60.552502  60.176525  322423600\n",
      "2020-03-17  61.877499  64.402496  59.599998  63.215000  62.822491  324056000\n",
      "2020-03-18  59.942501  62.500000  59.279999  61.667500  61.284599  300233600\n",
      "2020-03-19  61.847500  63.209999  60.652500  61.195000  60.815033  271857200\n"
     ]
    }
   ],
   "source": [
    "print(data_df)"
   ]
  },
  {
   "cell_type": "code",
   "execution_count": null,
   "metadata": {},
   "outputs": [],
   "source": []
  }
 ],
 "metadata": {
  "kernelspec": {
   "display_name": "Python 3",
   "language": "python",
   "name": "python3"
  },
  "language_info": {
   "codemirror_mode": {
    "name": "ipython",
    "version": 3
   },
   "file_extension": ".py",
   "mimetype": "text/x-python",
   "name": "python",
   "nbconvert_exporter": "python",
   "pygments_lexer": "ipython3",
   "version": "3.8.5"
  }
 },
 "nbformat": 4,
 "nbformat_minor": 4
}
