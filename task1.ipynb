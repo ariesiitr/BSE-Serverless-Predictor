{
 "cells": [
  {
   "cell_type": "code",
   "execution_count": 10,
   "metadata": {},
   "outputs": [
    {
     "name": "stdout",
     "output_type": "stream",
     "text": [
      "      Unnamed: 0  Company_Code     Price\n",
      "0              0        533022     34.50\n",
      "1              1        532628      7.42\n",
      "2              2        523395  28816.50\n",
      "3              3        590116     14.94\n",
      "4              4        512161     79.85\n",
      "...          ...           ...       ...\n",
      "4339        4339        534742     86.00\n",
      "4340        4340        500780     79.80\n",
      "4341        4341        530091      0.87\n",
      "4342        4342        531335   1962.35\n",
      "4343        4343        532883      0.67\n",
      "\n",
      "[4344 rows x 3 columns]\n",
      "533022\n",
      "34.50\n",
      "532628\n",
      "7.42\n",
      "523395\n",
      "28816.50\n",
      "590116\n",
      "14.94\n",
      "512161\n",
      "79.85\n",
      "538351\n",
      "15.50\n"
     ]
    },
    {
     "ename": "TypeError",
     "evalue": "'method' object is not iterable",
     "output_type": "error",
     "traceback": [
      "\u001b[0;31m---------------------------------------------------------------------------\u001b[0m",
      "\u001b[0;31mTypeError\u001b[0m                                 Traceback (most recent call last)",
      "\u001b[0;32m<ipython-input-10-2468a4ab2433>\u001b[0m in \u001b[0;36m<module>\u001b[0;34m\u001b[0m\n\u001b[1;32m     35\u001b[0m \u001b[0;34m\u001b[0m\u001b[0m\n\u001b[1;32m     36\u001b[0m \u001b[0;34m\u001b[0m\u001b[0m\n\u001b[0;32m---> 37\u001b[0;31m \u001b[0;32mfor\u001b[0m \u001b[0mx\u001b[0m \u001b[0;32min\u001b[0m \u001b[0mbselib\u001b[0m\u001b[0;34m.\u001b[0m\u001b[0mquote\u001b[0m\u001b[0;34m:\u001b[0m\u001b[0;34m\u001b[0m\u001b[0;34m\u001b[0m\u001b[0m\n\u001b[0m\u001b[1;32m     38\u001b[0m     \u001b[0;32mif\u001b[0m \u001b[0mx\u001b[0m \u001b[0;32min\u001b[0m \u001b[0marr\u001b[0m\u001b[0;34m:\u001b[0m\u001b[0;34m\u001b[0m\u001b[0;34m\u001b[0m\u001b[0m\n\u001b[1;32m     39\u001b[0m         \u001b[0;32mcontinue\u001b[0m\u001b[0;34m\u001b[0m\u001b[0;34m\u001b[0m\u001b[0m\n",
      "\u001b[0;31mTypeError\u001b[0m: 'method' object is not iterable"
     ]
    }
   ],
   "source": [
    "import pandas as pd\n",
    "import numpy as np\n",
    "import matplotlib.pyplot as plt\n",
    "import seaborn as sns\n",
    "from datetime import date\n",
    "from datetime import timedelta\n",
    "\n",
    "from bselib.bse import BSE\n",
    "\n",
    "\n",
    "df = pd.read_excel (r'close.xlsx')\n",
    "print(df)\n",
    "\n",
    "# to execute \"updateScripCodes\" on instantiation\n",
    "\n",
    "bselib = BSE()\n",
    " \n",
    "arr={}\n",
    "i=0\n",
    "\n",
    "for x in df['Company_Code']:\n",
    "    arr[x]={}\n",
    "    print(x)\n",
    "    print(df['Price'][i])\n",
    "    arr[x]['previous'] = df['Price'][i]\n",
    "    i+=1\n",
    "    if(i>5):\n",
    "        break\n",
    "    try:\n",
    "        data = bselib.quote(x)\n",
    "        arr[x]['final'] = data['previousClose']\n",
    "    except:\n",
    "        arr.pop(x)\n",
    "        continue\n",
    "\n",
    "'''\n",
    "for x in bselib.quote:\n",
    "    if x in arr:\n",
    "        continue\n",
    "    else:\n",
    "        arr[x]={}\n",
    "        arr[x]['final']=bselib.quote(x)['previousClose']\n",
    "        arr[x]['previous']=0\n",
    "\n",
    "'''\n",
    "        \n",
    "        \n",
    "\n"
   ]
  },
  {
   "cell_type": "code",
   "execution_count": 3,
   "metadata": {},
   "outputs": [
    {
     "name": "stdout",
     "output_type": "stream",
     "text": [
      "{533022: {'previous': '34.50', 'final': '35.20'}, 532628: {'previous': '7.42', 'final': '7.44'}, 523395: {'previous': '28816.50', 'final': '30238.55'}, 590116: {'previous': '14.94', 'final': '14.50'}, 512161: {'previous': '79.85', 'final': '75.60'}, 538351: {'previous': '15.50'}}\n"
     ]
    }
   ],
   "source": [
    "print(arr)"
   ]
  },
  {
   "cell_type": "code",
   "execution_count": 7,
   "metadata": {},
   "outputs": [],
   "source": [
    "import csv\n",
    "#my_dict = {'1': 'aaa', '2': 'bbb', '3': 'ccc'}\n",
    "with open('test.csv', 'w') as f:\n",
    "    for key in arr.keys():\n",
    "        f.write(\"%s\"%(key))\n",
    "        f.write(\" \")\n",
    "        for keey in arr[key].keys():\n",
    "            f.write(\"%s\"%(arr[key][keey]))\n",
    "            f.write(\" \")\n",
    "        f.write(\"\\n\")"
   ]
  },
  {
   "cell_type": "code",
   "execution_count": null,
   "metadata": {},
   "outputs": [],
   "source": [
    "import pandas as pd\n",
    "from bselib.bse import BSE\n",
    "bselib = BSE()\n",
    " \n",
    "cnt=0\n",
    "price={}\n",
    "for company in bsedata.getScripCodes():\n",
    "    try:\n",
    "        q=bselib.quote(company)[\"stockPrice\"]\n",
    "        price[company]=q\n",
    "        print(company,cnt)\n",
    "        cnt=cnt+1\n",
    "    except:\n",
    "        continue\n",
    " \n",
    "close=pd.DataFrame(list(price.items()),columns = [\"Company_Code\",'Price'])\n",
    "close.to_excel(\"close.xlsx\")"
   ]
  }
 ],
 "metadata": {
  "kernelspec": {
   "display_name": "Python 3",
   "language": "python",
   "name": "python3"
  },
  "language_info": {
   "codemirror_mode": {
    "name": "ipython",
    "version": 3
   },
   "file_extension": ".py",
   "mimetype": "text/x-python",
   "name": "python",
   "nbconvert_exporter": "python",
   "pygments_lexer": "ipython3",
   "version": "3.8.5"
  }
 },
 "nbformat": 4,
 "nbformat_minor": 4
}
