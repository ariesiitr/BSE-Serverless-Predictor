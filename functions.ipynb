{
 "cells": [
  {
   "cell_type": "code",
   "execution_count": 5,
   "metadata": {},
   "outputs": [],
   "source": [
    "def is_business_day(date):\n",
    "    return bool(len(pd.bdate_range(date, date)))"
   ]
  },
  {
   "cell_type": "code",
   "execution_count": 14,
   "metadata": {},
   "outputs": [
    {
     "data": {
      "text/plain": [
       "array([[1405.2148]], dtype=float32)"
      ]
     },
     "execution_count": 14,
     "metadata": {},
     "output_type": "execute_result"
    }
   ],
   "source": [
    "import pandas as pd\n",
    "import numpy as np\n",
    "import matplotlib.pyplot as plt\n",
    "import seaborn as sns\n",
    "from datetime import date\n",
    "from datetime import timedelta\n",
    "from datetime import time\n",
    "from datetime import datetime\n",
    "from tensorflow import keras\n",
    "if is_business_day(date.today()):\n",
    "    df=pd.read_csv('data/BOM500002.csv')##\n",
    "    df=df.set_index('Date')\n",
    "    training_set=df.iloc[:,0:1].values\n",
    "    from sklearn.preprocessing import MinMaxScaler\n",
    "    sc=MinMaxScaler(feature_range=(0,1),copy=True)\n",
    "    training_set_scaled=sc.fit_transform(training_set)\n",
    "    X_test=[]\n",
    "    X_test.append(training_set_scaled[len(training_set_scaled)-60:len(training_set_scaled),0])\n",
    "    X_test=np.array(X_test)\n",
    "    X_test = np.reshape(X_test, (X_test.shape[0], X_test.shape[1], 1))\n",
    "    model = keras.models.load_model(\"BOM500002_model\")##\n",
    "    y_test=model.predict(X_test)\n",
    "    y_test=sc.inverse_transform(y_test)\n",
    "    y_test"
   ]
  },
  {
   "cell_type": "code",
   "execution_count": null,
   "metadata": {},
   "outputs": [],
   "source": []
  }
 ],
 "metadata": {
  "kernelspec": {
   "display_name": "Python 3",
   "language": "python",
   "name": "python3"
  },
  "language_info": {
   "codemirror_mode": {
    "name": "ipython",
    "version": 3
   },
   "file_extension": ".py",
   "mimetype": "text/x-python",
   "name": "python",
   "nbconvert_exporter": "python",
   "pygments_lexer": "ipython3",
   "version": "3.8.5"
  }
 },
 "nbformat": 4,
 "nbformat_minor": 4
}
