{
 "cells": [
  {
   "cell_type": "code",
   "execution_count": 1,
   "metadata": {},
   "outputs": [
    {
     "name": "stdout",
     "output_type": "stream",
     "text": [
      "Collecting bsedata\n",
      "  Downloading bsedata-0.4.0-py3-none-any.whl (15 kB)\n",
      "Requirement already satisfied: lxml in /Users/shaleen/opt/anaconda3/lib/python3.8/site-packages (from bsedata) (4.6.1)\n",
      "Requirement already satisfied: requests in /Users/shaleen/opt/anaconda3/lib/python3.8/site-packages (from bsedata) (2.24.0)\n",
      "Requirement already satisfied: beautifulsoup4 in /Users/shaleen/opt/anaconda3/lib/python3.8/site-packages (from bsedata) (4.9.3)\n",
      "Requirement already satisfied: chardet<4,>=3.0.2 in /Users/shaleen/opt/anaconda3/lib/python3.8/site-packages (from requests->bsedata) (3.0.4)\n",
      "Requirement already satisfied: idna<3,>=2.5 in /Users/shaleen/opt/anaconda3/lib/python3.8/site-packages (from requests->bsedata) (2.10)\n",
      "Requirement already satisfied: urllib3!=1.25.0,!=1.25.1,<1.26,>=1.21.1 in /Users/shaleen/opt/anaconda3/lib/python3.8/site-packages (from requests->bsedata) (1.25.11)\n",
      "Requirement already satisfied: certifi>=2017.4.17 in /Users/shaleen/opt/anaconda3/lib/python3.8/site-packages (from requests->bsedata) (2020.6.20)\n",
      "Requirement already satisfied: soupsieve>1.2; python_version >= \"3.0\" in /Users/shaleen/opt/anaconda3/lib/python3.8/site-packages (from beautifulsoup4->bsedata) (2.0.1)\n",
      "Installing collected packages: bsedata\n",
      "Successfully installed bsedata-0.4.0\n",
      "Note: you may need to restart the kernel to use updated packages.\n"
     ]
    }
   ],
   "source": [
    "pip install bsedata"
   ]
  },
  {
   "cell_type": "code",
   "execution_count": 1,
   "metadata": {},
   "outputs": [
    {
     "name": "stdout",
     "output_type": "stream",
     "text": [
      "Driver Class for Bombay Stock Exchange (BSE)\n"
     ]
    }
   ],
   "source": [
    "from bsedata.bse import BSE\n",
    "b = BSE()\n",
    "print(b)\n",
    "# Output:\n",
    "# Driver Class for Bombay Stock Exchange (BSE)\n",
    "\n",
    "# to execute \"updateScripCodes\" on instantiation\n",
    "b = BSE(update_codes = True)"
   ]
  },
  {
   "cell_type": "code",
   "execution_count": 6,
   "metadata": {},
   "outputs": [
    {
     "name": "stdout",
     "output_type": "stream",
     "text": [
      "IDBI BANK LTD.\n",
      "29.90\n",
      "03 Feb 21 | 03:46 PM\n",
      "AVANTI FEEDS LTD.-$\n",
      "521.55\n",
      "03 Feb 21 | 03:43 PM\n"
     ]
    }
   ],
   "source": [
    "b = BSE()\n",
    "codelist = [\"500116\", \"512573\"]\n",
    "for code in codelist:\n",
    "    quote = b.getQuote(code)\n",
    "    print(quote[\"companyName\"])\n",
    "    print(quote[\"currentValue\"])\n",
    "    print(quote[\"updatedOn\"])"
   ]
  },
  {
   "cell_type": "code",
   "execution_count": 7,
   "metadata": {},
   "outputs": [
    {
     "name": "stdout",
     "output_type": "stream",
     "text": [
      "[{'securityID': 'SHRIRAMCIT', 'scripCode': '532498', 'LTP': '1,466.15', 'change': '244.35', 'pChange': '20.00'}, {'securityID': 'BAJAJCON', 'scripCode': '533229', 'LTP': '255.95', 'change': '42.65', 'pChange': '20.00'}, {'securityID': 'PANACEABIO', 'scripCode': '531349', 'LTP': '217.05', 'change': '25.80', 'pChange': '13.49'}, {'securityID': 'NCC', 'scripCode': '500294', 'LTP': '77.60', 'change': '9.05', 'pChange': '13.20'}, {'securityID': 'HGINFRA', 'scripCode': '541019', 'LTP': '269.70', 'change': '25.45', 'pChange': '10.42'}]\n"
     ]
    }
   ],
   "source": [
    "tg = b.topGainers()\n",
    "print(tg)"
   ]
  },
  {
   "cell_type": "code",
   "execution_count": 8,
   "metadata": {},
   "outputs": [
    {
     "name": "stdout",
     "output_type": "stream",
     "text": [
      "[{'securityID': 'ASIANTILES', 'scripCode': '532888', 'LTP': '265.75', 'change': '-32.85', 'pChange': '-11.00'}, {'securityID': 'EPL', 'scripCode': '500135', 'LTP': '218.20', 'change': '-19.90', 'pChange': '-8.36'}, {'securityID': 'MANGLMCEM', 'scripCode': '502157', 'LTP': '242.00', 'change': '-13.80', 'pChange': '-5.39'}, {'securityID': 'FLFL', 'scripCode': '536507', 'LTP': '88.35', 'change': '-4.65', 'pChange': '-5.00'}, {'securityID': 'FRETAIL', 'scripCode': '540064', 'LTP': '78.10', 'change': '-4.10', 'pChange': '-4.99'}]\n"
     ]
    }
   ],
   "source": [
    "tg = b.topLosers()\n",
    "print(tg)\n",
    "# Output:\n",
    "# [{'LTP': '82.05',\n",
    "#   'change': '-9.90',\n",
    "#   'pChange': '-10.77',\n",
    "#   'scripCode': '532617',\n",
    "#   'securityID': 'JETAIRWAYS'},\n",
    "#  {'LTP': '76.55',\n",
    "#   'change': '-7.85',\n",
    "#   'pChange': '-9.30',\n",
    "#   'scripCode': '500111',\n",
    "#   'securityID': 'RELCAPITAL'},\n",
    "#  {'LTP': '326.55',\n",
    "#   'change': '-26.40',\n",
    "#   'pChange': '-7.48',\n",
    "#   'scripCode': '539268',\n",
    "#   'securityID': 'SYNGENE'},\n",
    "#  {'LTP': '3.69',\n",
    "#   'change': '-0.29',\n",
    "#   'pChange': '-7.29',\n",
    "#   'scripCode': '532532',\n",
    "#   'securityID': 'JPASSOCIAT'},\n",
    "#  {'LTP': '57.40',\n",
    "#   'change': '-4.25',\n",
    "#   'pChange': '-6.89',\n",
    "#   'scripCode': '534809',\n",
    "#   'securityID': 'PCJEWELLER'}]"
   ]
  },
  {
   "cell_type": "code",
   "execution_count": 9,
   "metadata": {},
   "outputs": [
    {
     "name": "stdout",
     "output_type": "stream",
     "text": [
      "{'indices': []}\n"
     ]
    }
   ],
   "source": [
    "indices = b.getIndices(category='corporate')\n",
    "print(indices)"
   ]
  },
  {
   "cell_type": "code",
   "execution_count": 10,
   "metadata": {},
   "outputs": [
    {
     "name": "stdout",
     "output_type": "stream",
     "text": [
      "Requirement already satisfied: pandas in /Users/shaleen/opt/anaconda3/lib/python3.8/site-packages (1.1.3)\r\n",
      "Requirement already satisfied: pytz>=2017.2 in /Users/shaleen/opt/anaconda3/lib/python3.8/site-packages (from pandas) (2020.1)\r\n",
      "Requirement already satisfied: numpy>=1.15.4 in /Users/shaleen/opt/anaconda3/lib/python3.8/site-packages (from pandas) (1.19.2)\r\n",
      "Requirement already satisfied: python-dateutil>=2.7.3 in /Users/shaleen/opt/anaconda3/lib/python3.8/site-packages (from pandas) (2.8.1)\r\n",
      "Requirement already satisfied: six>=1.5 in /Users/shaleen/opt/anaconda3/lib/python3.8/site-packages (from python-dateutil>=2.7.3->pandas) (1.15.0)\r\n"
     ]
    }
   ],
   "source": [
    "!pip install pandas"
   ]
  },
  {
   "cell_type": "code",
   "execution_count": 11,
   "metadata": {},
   "outputs": [
    {
     "name": "stdout",
     "output_type": "stream",
     "text": [
      "Collecting bselib\n",
      "  Downloading bselib-0.0.5-py3-none-any.whl (19 kB)\n",
      "Requirement already satisfied: lxml>=4.0.0 in /Users/shaleen/opt/anaconda3/lib/python3.8/site-packages (from bselib) (4.6.1)\n",
      "Collecting bs4>=0.0.1\n",
      "  Downloading bs4-0.0.1.tar.gz (1.1 kB)\n",
      "Requirement already satisfied: pandas>=1.0.0 in /Users/shaleen/opt/anaconda3/lib/python3.8/site-packages (from bselib) (1.1.3)\n",
      "Requirement already satisfied: html5lib>=1.0.0 in /Users/shaleen/opt/anaconda3/lib/python3.8/site-packages (from bselib) (1.1)\n",
      "Requirement already satisfied: requests>=2.23.0 in /Users/shaleen/opt/anaconda3/lib/python3.8/site-packages (from bselib) (2.24.0)\n",
      "Requirement already satisfied: beautifulsoup4 in /Users/shaleen/opt/anaconda3/lib/python3.8/site-packages (from bs4>=0.0.1->bselib) (4.9.3)\n",
      "Requirement already satisfied: pytz>=2017.2 in /Users/shaleen/opt/anaconda3/lib/python3.8/site-packages (from pandas>=1.0.0->bselib) (2020.1)\n",
      "Requirement already satisfied: numpy>=1.15.4 in /Users/shaleen/opt/anaconda3/lib/python3.8/site-packages (from pandas>=1.0.0->bselib) (1.19.2)\n",
      "Requirement already satisfied: python-dateutil>=2.7.3 in /Users/shaleen/opt/anaconda3/lib/python3.8/site-packages (from pandas>=1.0.0->bselib) (2.8.1)\n",
      "Requirement already satisfied: webencodings in /Users/shaleen/opt/anaconda3/lib/python3.8/site-packages (from html5lib>=1.0.0->bselib) (0.5.1)\n",
      "Requirement already satisfied: six>=1.9 in /Users/shaleen/opt/anaconda3/lib/python3.8/site-packages (from html5lib>=1.0.0->bselib) (1.15.0)\n",
      "Requirement already satisfied: idna<3,>=2.5 in /Users/shaleen/opt/anaconda3/lib/python3.8/site-packages (from requests>=2.23.0->bselib) (2.10)\n",
      "Requirement already satisfied: chardet<4,>=3.0.2 in /Users/shaleen/opt/anaconda3/lib/python3.8/site-packages (from requests>=2.23.0->bselib) (3.0.4)\n",
      "Requirement already satisfied: urllib3!=1.25.0,!=1.25.1,<1.26,>=1.21.1 in /Users/shaleen/opt/anaconda3/lib/python3.8/site-packages (from requests>=2.23.0->bselib) (1.25.11)\n",
      "Requirement already satisfied: certifi>=2017.4.17 in /Users/shaleen/opt/anaconda3/lib/python3.8/site-packages (from requests>=2.23.0->bselib) (2020.6.20)\n",
      "Requirement already satisfied: soupsieve>1.2; python_version >= \"3.0\" in /Users/shaleen/opt/anaconda3/lib/python3.8/site-packages (from beautifulsoup4->bs4>=0.0.1->bselib) (2.0.1)\n",
      "Building wheels for collected packages: bs4\n",
      "  Building wheel for bs4 (setup.py) ... \u001b[?25ldone\n",
      "\u001b[?25h  Created wheel for bs4: filename=bs4-0.0.1-py3-none-any.whl size=1273 sha256=54549f49d8d4fafe0935691f2fcb199f4588038cda35182f5e55b221a6bf94aa\n",
      "  Stored in directory: /Users/shaleen/Library/Caches/pip/wheels/75/78/21/68b124549c9bdc94f822c02fb9aa3578a669843f9767776bca\n",
      "Successfully built bs4\n",
      "Installing collected packages: bs4, bselib\n",
      "Successfully installed bs4-0.0.1 bselib-0.0.5\n"
     ]
    }
   ],
   "source": [
    "!pip install bselib"
   ]
  },
  {
   "cell_type": "code",
   "execution_count": 13,
   "metadata": {},
   "outputs": [
    {
     "name": "stdout",
     "output_type": "stream",
     "text": [
      "Driver Class for Bombay Stock Exchange\n"
     ]
    }
   ],
   "source": [
    "from bselib.bse import BSE\n",
    "b = BSE()\n",
    "print(b)\n",
    "# Output:\n",
    "#Driver Class for Bombay Stock Exchange"
   ]
  },
  {
   "cell_type": "code",
   "execution_count": 15,
   "metadata": {},
   "outputs": [
    {
     "name": "stdout",
     "output_type": "stream",
     "text": [
      "{500325: 'Reliance Industries Ltd', 533143: 'Reliance Broadcast Network Ltd. (Delisted)', 532703: 'Reliance Capital Ventures (Delisted)', 500111: 'Reliance Capital Ltd', 503162: 'Reliance Chemotex Industries Ltd', 532712: 'Reliance Communications Ltd', 532704: 'Reliance Energy Ventures (Delisted)', 540709: 'Reliance Home Finance Ltd', 523445: 'Reliance Industrial Infrastructure Ltd', 890147: 'Reliance Industries Ltd Partly Paidup'}\n"
     ]
    }
   ],
   "source": [
    "stocks = b.script('reliance')\n",
    "print(stocks)"
   ]
  },
  {
   "cell_type": "code",
   "execution_count": 16,
   "metadata": {},
   "outputs": [
    {
     "name": "stdout",
     "output_type": "stream",
     "text": [
      "{500325: 'Reliance Industries Ltd - 500325'}\n"
     ]
    }
   ],
   "source": [
    "stocks = b.script('500325')\n",
    "print(stocks)"
   ]
  },
  {
   "cell_type": "code",
   "execution_count": 17,
   "metadata": {},
   "outputs": [
    {
     "name": "stdout",
     "output_type": "stream",
     "text": [
      "{'stockName': 'RELIANCE INDUSTRIES LTD.', 'stockPrice': '1930.30', 'change': '+3.85', 'pChange': '+0.20', 'ltd': 'LTD- 03 Feb 21 | 04:00 PM', 'securityId': 'RELIANCE', 'scriptCode': '500325', 'group': 'A', 'index': 'S&P BSE SENSEX', 'faceValue': '10.00', 'previousClose': '1926.45', 'lastOpen': '1927.00', 'daysHigh': '1951.00', 'daysLow': '1900.00', 'wtdAvgPrice': '1933.40', 'totalTradedValue': {'in': 'Cr', 'value': '178.17'}, 'totalTradedQty': {'in': 'Lac', 'value': '9.22'}, 'twoWeekAvgQty': {'in': 'Lac', 'value': '11.70'}, 'mktCap': {'in': 'Cr', 'value': '12,23,702.24'}, 'freeFloat': {'in': 'Cr', 'value': '6,11,851.12'}, 'fiftytwo_WeekHigh': 2368.8, 'fiftytwo_WeekLow': 867.82, 'monthHighLow': '2119.80 / 1830.00'}\n"
     ]
    }
   ],
   "source": [
    "data = b.quote('500325')\n",
    "print(data)"
   ]
  },
  {
   "cell_type": "code",
   "execution_count": 18,
   "metadata": {},
   "outputs": [
    {
     "name": "stdout",
     "output_type": "stream",
     "text": [
      "{'header': 'Annual Analysis Highlights', 'data': [{'sentence': 'Net Sales - YoY Growth in year ended Mar 2020 is 4.98% vs 32.15% in Mar 2019', 'prefix': 'Net Sales', 'suffix': 'YoY Growth in year ended Mar 2020 is 4.98% vs 32.15% in Mar 2019', 'dir': -1}, {'sentence': 'Consolidated Net Profit - YoY Growth in year ended Mar 2020 is -0.59% vs 9.74% in Mar 2019', 'prefix': 'Consolidated Net Profit', 'suffix': 'YoY Growth in year ended Mar 2020 is -0.59% vs 9.74% in Mar 2019', 'dir': -1}, {'sentence': 'Operating Profit (PBDIT) excl Other Income - YoY Growth in year ended Mar 2020 is 5.75% vs 31.15% in Mar 2019', 'prefix': 'Operating Profit (PBDIT) excl Other Income', 'suffix': 'YoY Growth in year ended Mar 2020 is 5.75% vs 31.15% in Mar 2019', 'dir': -1}, {'sentence': 'Interest - YoY Growth in year ended Mar 2020 is 33.54% vs 104.86% in Mar 2019', 'prefix': 'Interest', 'suffix': 'YoY Growth in year ended Mar 2020 is 33.54% vs 104.86% in Mar 2019', 'dir': 1}, {'sentence': 'Operating Profit Margin (Excl OI) - YoY Growth in year ended Mar 2020 has improved from Mar 2019', 'prefix': 'Operating Profit Margin (Excl OI)', 'suffix': 'YoY Growth in year ended Mar 2020 has improved from Mar 2019', 'dir': 1}]}\n"
     ]
    }
   ],
   "source": [
    "stats = b.stmt_analysis(500325,stats=\"yoy_results\")\n",
    "print(stats)"
   ]
  },
  {
   "cell_type": "code",
   "execution_count": 19,
   "metadata": {},
   "outputs": [],
   "source": [
    "pa = b.analysis(500325)"
   ]
  },
  {
   "cell_type": "code",
   "execution_count": 20,
   "metadata": {},
   "outputs": [
    {
     "name": "stdout",
     "output_type": "stream",
     "text": [
      "{'value_analysis': {'quality': {'messagextra': 'Largest company in Oil Exploration/Refineries sector', 'status': 'Average', 'dot': 'yellow', 'message': ''}, 'valuation': {'status': 'Very Expensive', 'dot': 'red', 'messagextra': '', 'message': ''}, 'technicals': {'status': 'Mildly Bullish', 'dot': 'green'}, 'technicaltext': ['Technical trend turned Mildly Bullish from Bullish on 22 Jan 2021 at Rs 2049.65', 'Moving Averages (daily) turned Mildly Bullish from Bullish on 25 Jan 2021 at Rs 1939.7', 'MACD (weekly) turned Mildly Bearish from Bullish on 08 Oct 2020 at Rs 2238.9'], 'fintrend': {'status': 'Flat', 'quarter': '(Dec 20)', 'dot': 'yellow', 'message': 'Flat financial performance in Dec 2020. The score has improved to 0 from -9 in the last 3 months.', 'workinfo': {'neutral': 'No key highlights trigerred'}}, 'overview': 'This Large Cap stock with Average quality but Very Expensive valuation looks <b>Negative for Long Term</b>. However, with Flat quarterly financial trend and Mildly Bullish technicals, it looks <b>Neutral for Near Term</b>.'}, 'price_analysis': [{'header': 'Performance Today', 'msg': 'Underperformed Sector by -0.31%', 'dir': -1}, {'header': 'Consecutive Gain', 'msg': 'Stock has been gaining for the last 3 days and has risen 4.82% returns in the period', 'dir': 1}, {'header': 'Moving Averages', 'msg': ' higher than 5 day and 200 day moving averages but lower than 20 day, 50 day and 100 day moving averages', 'dir': 0}, {'header': 'Falling Investor Participation', 'msg': 'Delivery Vol of 76.76 lacs on 02 Feb has fallen by -12.92% against 5-day avg delivery vol ', 'dir': -1}, {'header': 'Liquidity', 'msg': 'Based on 2% of 5 day average traded Value the stock is liquid enough for trade size of Rs 73.23 cr', 'dir': 0}], 'pros': [], 'cons': []}\n"
     ]
    }
   ],
   "source": [
    "print(pa)"
   ]
  },
  {
   "cell_type": "code",
   "execution_count": 21,
   "metadata": {},
   "outputs": [],
   "source": [
    "ratios = b.ratios(500325)"
   ]
  },
  {
   "cell_type": "code",
   "execution_count": 22,
   "metadata": {},
   "outputs": [
    {
     "name": "stdout",
     "output_type": "stream",
     "text": [
      "{'value_ratio': {'SecurityId': 'RELIANCE', 'Grp_Index': 'A / S&P BSE SENSEX', 'FaceVal': '10.00', 'SecurityCode': '500325', 'ISIN': 'INE002A01018', 'Industry': 'Integrated Oil & Gas', 'Group': 'A', 'Index': 'S&P BSE SENSEX', 'PAIDUP_VALUE': '', 'EPS': '40.68', 'CEPS': '54.43', 'PE': '47.36', 'OPM': '-', 'NPM': '-', 'PB': '3.12', 'ROE': '6.59'}, 'profit_ratio': {'OPM': 13.43, 'NPM': 12.8, 'RONW': 133.87, 'EPS': 40.68, 'CEPS': 54.43, 'PE': 47.45}}\n"
     ]
    }
   ],
   "source": [
    "print(ratios)"
   ]
  },
  {
   "cell_type": "code",
   "execution_count": 23,
   "metadata": {},
   "outputs": [
    {
     "name": "stdout",
     "output_type": "stream",
     "text": [
      "{'Table': [{'scrip_cd': 500325, 'ResQtr': 108.0, 'Name': 'RELIANCE', 'LTP': 1930.3, 'Change': 0.2, 'w52hi': 2368.8, 'w52hidt': '2020-09-16T00:00:00', 'w52lo': 867.82, 'w52lodt': '2020-03-23T00:00:00', 'Revenue': 67400.0, 'PAT': 8628.0, 'Equity': 6445.0, 'OPM': 13.43, 'NPM': 12.8, 'RONW': 133.87, 'EPS': 40.68, 'Cash_EPS': 54.43, 'PE': 47.45, 'PB': 0.0, 'BV': 0.0, 'Results_QuarterName': 'Dec - 20', 'SHP_QuarterName': 'Dec - 20', 'PnPGrp': 3098084968.0, 'INDIAN': 3098084968.0, 'Foreign': 0.0, 'Public': 3054920036.0, 'Institution': 2367731864.0, 'FII': 0.0, 'DII': 2367731864.0, 'NonIns': 687188172.0, 'Bodies_Corporate': 0.0, 'FACE_VALUE': 10.0}, {'scrip_cd': 539336, 'ResQtr': 107.0, 'Name': 'GUJGAS', 'LTP': 372.35, 'Change': 1.46, 'w52hi': 411.2, 'w52hidt': '2020-11-27T00:00:00', 'w52lo': 191.0, 'w52lodt': '2020-03-24T00:00:00', 'Revenue': 2559.91, 'PAT': 474.76, 'Equity': 137.68, 'OPM': 28.12, 'NPM': 18.55, 'RONW': 344.83, 'EPS': 14.18, 'Cash_EPS': 18.94, 'PE': 26.26, 'PB': 0.0, 'BV': 0.0, 'Results_QuarterName': 'Sep - 20', 'SHP_QuarterName': 'Dec - 20', 'PnPGrp': 419183540.0, 'INDIAN': 419183540.0, 'Foreign': 0.0, 'Public': 269206585.0, 'Institution': 112405036.0, 'FII': 0.0, 'DII': 112405036.0, 'NonIns': 156801549.0, 'Bodies_Corporate': 0.0, 'FACE_VALUE': 2.0}, {'scrip_cd': 542066, 'ResQtr': 107.0, 'Name': 'ATGL', 'LTP': 388.15, 'Change': -3.2, 'w52hi': 412.35, 'w52hidt': '2021-02-03T09:17:14', 'w52lo': 76.7, 'w52lodt': '2020-03-25T00:00:00', 'Revenue': 441.16, 'PAT': 135.67, 'Equity': 109.98, 'OPM': 44.75, 'NPM': 30.75, 'RONW': 123.36, 'EPS': 3.81, 'Cash_EPS': 4.31, 'PE': 101.88, 'PB': 0.0, 'BV': 0.0, 'Results_QuarterName': 'Sep - 20', 'SHP_QuarterName': 'Dec - 20', 'PnPGrp': 822664076.0, 'INDIAN': 411332336.0, 'Foreign': 411331740.0, 'Public': 277146007.0, 'Institution': 231531675.0, 'FII': 0.0, 'DII': 231531675.0, 'NonIns': 45614332.0, 'Bodies_Corporate': 0.0, 'FACE_VALUE': 1.0}, {'scrip_cd': 524624, 'ResQtr': 107.0, 'Name': 'GAGAN', 'LTP': 6.99, 'Change': 0.0, 'w52hi': 8.25, 'w52hidt': '2020-06-16T00:00:00', 'w52lo': 4.39, 'w52lodt': '2020-10-05T00:00:00', 'Revenue': 0.53, 'PAT': 0.07, 'Equity': 0.0, 'OPM': 15.09, 'NPM': 13.21, 'RONW': 0.0, 'EPS': 0.2, 'Cash_EPS': 0.33, 'PE': 34.95, 'PB': 0.0, 'BV': 0.0, 'Results_QuarterName': 'Sep - 20', 'SHP_QuarterName': 'Sep - 20', 'PnPGrp': 1549355.0, 'INDIAN': 1549355.0, 'Foreign': 0.0, 'Public': 2969145.0, 'Institution': 3200.0, 'FII': 0.0, 'DII': 3200.0, 'NonIns': 2965945.0, 'Bodies_Corporate': 0.0, 'FACE_VALUE': 10.0}]}\n"
     ]
    }
   ],
   "source": [
    "peers = b.peers(500325)\n",
    "print(peers)"
   ]
  },
  {
   "cell_type": "code",
   "execution_count": null,
   "metadata": {},
   "outputs": [],
   "source": []
  }
 ],
 "metadata": {
  "kernelspec": {
   "display_name": "Python 3",
   "language": "python",
   "name": "python3"
  },
  "language_info": {
   "codemirror_mode": {
    "name": "ipython",
    "version": 3
   },
   "file_extension": ".py",
   "mimetype": "text/x-python",
   "name": "python",
   "nbconvert_exporter": "python",
   "pygments_lexer": "ipython3",
   "version": "3.8.5"
  }
 },
 "nbformat": 4,
 "nbformat_minor": 4
}
