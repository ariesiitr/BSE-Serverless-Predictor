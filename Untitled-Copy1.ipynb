{
 "cells": [
  {
   "cell_type": "code",
   "execution_count": 10,
   "id": "6d792844",
   "metadata": {},
   "outputs": [],
   "source": [
    "import requests, zipfile, io\n",
    "import numpy as np\n",
    "import pandas as pd\n",
    "import json\n",
    "from datetime import date\n",
    "from datetime import timedelta"
   ]
  },
  {
   "cell_type": "code",
   "execution_count": 11,
   "id": "04c0528e",
   "metadata": {},
   "outputs": [],
   "source": [
    "url00=\"https://www.quandl.com/api/v3/databases/BSE/metadata?api_key=LzKUeVWvC2Uhifpj2Fat\"\n",
    "r = requests.get(url00)\n",
    "z = zipfile.ZipFile(io.BytesIO(r.content))\n",
    "z.extractall(\"/tmp/\")\n",
    "quandl_codes=pd.read_csv('/tmp/BSE_metadata.csv')\n",
    "\n"
   ]
  },
  {
   "cell_type": "code",
   "execution_count": 24,
   "id": "ab8d1c2f",
   "metadata": {},
   "outputs": [
    {
     "name": "stdout",
     "output_type": "stream",
     "text": [
      "2021-05-24\n",
      "Empty DataFrame\n",
      "Columns: []\n",
      "Index: [2021-05-24]\n"
     ]
    }
   ],
   "source": [
    "today = date.today()\n",
    "yesterday = today - timedelta(days = 1)\n",
    "print(yesterday)\n",
    "apikey='LzKUeVWvC2Uhifpj2Fat'\n",
    "url0=\"https://www.quandl.com/api/v3/datasets/BSE/\"\n",
    "df=pd.DataFrame(index=[yesterday])\n",
    "print(df)\n",
    "#today=(date.today-timedelta(days =1))\n",
    "today=str(today)\n",
    "yesterday=str(yesterday)"
   ]
  },
  {
   "cell_type": "code",
   "execution_count": 25,
   "id": "4da25f25",
   "metadata": {},
   "outputs": [
    {
     "data": {
      "text/html": [
       "<div>\n",
       "<style scoped>\n",
       "    .dataframe tbody tr th:only-of-type {\n",
       "        vertical-align: middle;\n",
       "    }\n",
       "\n",
       "    .dataframe tbody tr th {\n",
       "        vertical-align: top;\n",
       "    }\n",
       "\n",
       "    .dataframe thead th {\n",
       "        text-align: right;\n",
       "    }\n",
       "</style>\n",
       "<table border=\"1\" class=\"dataframe\">\n",
       "  <thead>\n",
       "    <tr style=\"text-align: right;\">\n",
       "      <th></th>\n",
       "      <th>code</th>\n",
       "      <th>name</th>\n",
       "      <th>description</th>\n",
       "      <th>refreshed_at</th>\n",
       "      <th>from_date</th>\n",
       "      <th>to_date</th>\n",
       "    </tr>\n",
       "  </thead>\n",
       "  <tbody>\n",
       "    <tr>\n",
       "      <th>0</th>\n",
       "      <td>BOM500002</td>\n",
       "      <td>ABB India Limited EOD Prices</td>\n",
       "      <td>End of Day prices and additional trading infor...</td>\n",
       "      <td>2021-05-24 14:09:40</td>\n",
       "      <td>1992-03-02</td>\n",
       "      <td>2021-05-24</td>\n",
       "    </tr>\n",
       "    <tr>\n",
       "      <th>1</th>\n",
       "      <td>BOM500003</td>\n",
       "      <td>AEGIS LOGISTICS LTD. EOD Prices</td>\n",
       "      <td>End of Day prices and additional trading infor...</td>\n",
       "      <td>2021-05-24 14:09:40</td>\n",
       "      <td>1992-03-02</td>\n",
       "      <td>2021-05-24</td>\n",
       "    </tr>\n",
       "    <tr>\n",
       "      <th>2</th>\n",
       "      <td>BOM500008</td>\n",
       "      <td>AMARA RAJA BATTERIES LTD. EOD Prices</td>\n",
       "      <td>End of Day prices and additional trading infor...</td>\n",
       "      <td>2021-05-24 14:09:40</td>\n",
       "      <td>1992-03-02</td>\n",
       "      <td>2021-05-24</td>\n",
       "    </tr>\n",
       "    <tr>\n",
       "      <th>3</th>\n",
       "      <td>BOM500009</td>\n",
       "      <td>AMBALAL SARABHAI ENTERPRISES LTD. EOD Prices</td>\n",
       "      <td>End of Day prices and additional trading infor...</td>\n",
       "      <td>2021-05-24 14:09:40</td>\n",
       "      <td>1992-03-02</td>\n",
       "      <td>2021-05-24</td>\n",
       "    </tr>\n",
       "    <tr>\n",
       "      <th>4</th>\n",
       "      <td>BOM500010</td>\n",
       "      <td>HOUSING DEVELOPMENT FINANCE CORP.LTD. EOD Prices</td>\n",
       "      <td>End of Day prices and additional trading infor...</td>\n",
       "      <td>2021-05-24 14:09:40</td>\n",
       "      <td>1992-01-03</td>\n",
       "      <td>2021-05-24</td>\n",
       "    </tr>\n",
       "    <tr>\n",
       "      <th>...</th>\n",
       "      <td>...</td>\n",
       "      <td>...</td>\n",
       "      <td>...</td>\n",
       "      <td>...</td>\n",
       "      <td>...</td>\n",
       "      <td>...</td>\n",
       "    </tr>\n",
       "    <tr>\n",
       "      <th>5116</th>\n",
       "      <td>SPBSS5IP</td>\n",
       "      <td>BSE SENSEX 50</td>\n",
       "      <td>Historical BSE indexes for BSE SENSEX 50 (SPBS...</td>\n",
       "      <td>2021-05-24 19:30:51</td>\n",
       "      <td>2017-09-19</td>\n",
       "      <td>2021-05-24</td>\n",
       "    </tr>\n",
       "    <tr>\n",
       "      <th>5117</th>\n",
       "      <td>SPBSSSIP</td>\n",
       "      <td>BSE SmallCap Select Index</td>\n",
       "      <td>Historical BSE indexes for BSE SmallCap Select...</td>\n",
       "      <td>2021-05-24 19:30:51</td>\n",
       "      <td>2015-07-08</td>\n",
       "      <td>2021-05-24</td>\n",
       "    </tr>\n",
       "    <tr>\n",
       "      <th>5118</th>\n",
       "      <td>SPBSTLIP</td>\n",
       "      <td>BSE Telecom</td>\n",
       "      <td>Historical BSE indexes for BSE Telecom (SPBSTLIP)</td>\n",
       "      <td>2021-05-24 19:30:51</td>\n",
       "      <td>2005-09-16</td>\n",
       "      <td>2021-05-24</td>\n",
       "    </tr>\n",
       "    <tr>\n",
       "      <th>5119</th>\n",
       "      <td>SPBSUTIP</td>\n",
       "      <td>BSE Utilities</td>\n",
       "      <td>Historical BSE indexes for BSE Utilities (SPBS...</td>\n",
       "      <td>2021-05-24 19:30:51</td>\n",
       "      <td>2005-09-16</td>\n",
       "      <td>2021-05-24</td>\n",
       "    </tr>\n",
       "    <tr>\n",
       "      <th>5120</th>\n",
       "      <td>SPICBLOT</td>\n",
       "      <td>BSE Liquid Rate Index</td>\n",
       "      <td>Historical BSE indexes for BSE Liquid Rate Ind...</td>\n",
       "      <td>2021-05-24 19:30:51</td>\n",
       "      <td>2017-09-19</td>\n",
       "      <td>2021-05-24</td>\n",
       "    </tr>\n",
       "  </tbody>\n",
       "</table>\n",
       "<p>5121 rows × 6 columns</p>\n",
       "</div>"
      ],
      "text/plain": [
       "           code                                              name  \\\n",
       "0     BOM500002                      ABB India Limited EOD Prices   \n",
       "1     BOM500003                   AEGIS LOGISTICS LTD. EOD Prices   \n",
       "2     BOM500008              AMARA RAJA BATTERIES LTD. EOD Prices   \n",
       "3     BOM500009      AMBALAL SARABHAI ENTERPRISES LTD. EOD Prices   \n",
       "4     BOM500010  HOUSING DEVELOPMENT FINANCE CORP.LTD. EOD Prices   \n",
       "...         ...                                               ...   \n",
       "5116   SPBSS5IP                                     BSE SENSEX 50   \n",
       "5117   SPBSSSIP                         BSE SmallCap Select Index   \n",
       "5118   SPBSTLIP                                       BSE Telecom   \n",
       "5119   SPBSUTIP                                     BSE Utilities   \n",
       "5120   SPICBLOT                             BSE Liquid Rate Index   \n",
       "\n",
       "                                            description         refreshed_at  \\\n",
       "0     End of Day prices and additional trading infor...  2021-05-24 14:09:40   \n",
       "1     End of Day prices and additional trading infor...  2021-05-24 14:09:40   \n",
       "2     End of Day prices and additional trading infor...  2021-05-24 14:09:40   \n",
       "3     End of Day prices and additional trading infor...  2021-05-24 14:09:40   \n",
       "4     End of Day prices and additional trading infor...  2021-05-24 14:09:40   \n",
       "...                                                 ...                  ...   \n",
       "5116  Historical BSE indexes for BSE SENSEX 50 (SPBS...  2021-05-24 19:30:51   \n",
       "5117  Historical BSE indexes for BSE SmallCap Select...  2021-05-24 19:30:51   \n",
       "5118  Historical BSE indexes for BSE Telecom (SPBSTLIP)  2021-05-24 19:30:51   \n",
       "5119  Historical BSE indexes for BSE Utilities (SPBS...  2021-05-24 19:30:51   \n",
       "5120  Historical BSE indexes for BSE Liquid Rate Ind...  2021-05-24 19:30:51   \n",
       "\n",
       "       from_date     to_date  \n",
       "0     1992-03-02  2021-05-24  \n",
       "1     1992-03-02  2021-05-24  \n",
       "2     1992-03-02  2021-05-24  \n",
       "3     1992-03-02  2021-05-24  \n",
       "4     1992-01-03  2021-05-24  \n",
       "...          ...         ...  \n",
       "5116  2017-09-19  2021-05-24  \n",
       "5117  2015-07-08  2021-05-24  \n",
       "5118  2005-09-16  2021-05-24  \n",
       "5119  2005-09-16  2021-05-24  \n",
       "5120  2017-09-19  2021-05-24  \n",
       "\n",
       "[5121 rows x 6 columns]"
      ]
     },
     "execution_count": 25,
     "metadata": {},
     "output_type": "execute_result"
    }
   ],
   "source": [
    "quandl_codes"
   ]
  },
  {
   "cell_type": "code",
   "execution_count": 26,
   "id": "684f76c1",
   "metadata": {},
   "outputs": [],
   "source": [
    "cnt=0\n",
    "for code in quandl_codes['code']:\n",
    "    #code=quandl_codes.iloc[i,0]\n",
    "    url=url0+code+\"?start_date=\"+yesterday+\"&end_date=\"+yesterday+\"&api_key=\"+apikey\n",
    "    json_obj= requests.get(url)\n",
    "    data=json.loads(json_obj.content.decode('utf-8'))\n",
    "    cnt=cnt+1\n",
    "    if cnt>5:\n",
    "        break\n",
    "    try:\n",
    "        close_price= data['dataset']['data'][0][4]\n",
    "        df[code]=close_price\n",
    "    except:\n",
    "        continue\n",
    "        \n",
    "    \n",
    "    \n",
    "#url=\"https://www.quandl.com/api/v3/datasets/BSE/BOM539397?start_date=2019-03-13&end_date=2019-03-13&api_key=LzKUeVWvC2Uhifpj2Fat\"\n",
    "\n",
    "\n",
    "def lambda_handler(event,context):\n",
    "   print(df)"
   ]
  },
  {
   "cell_type": "code",
   "execution_count": 27,
   "id": "6f0b968d",
   "metadata": {},
   "outputs": [
    {
     "name": "stdout",
     "output_type": "stream",
     "text": [
      "            BOM500002  BOM500003  BOM500008  BOM500009  BOM500010\n",
      "2021-05-24     1474.8      348.9     783.75       50.7    2540.45\n"
     ]
    }
   ],
   "source": [
    "lambda_handler(1,2)"
   ]
  },
  {
   "cell_type": "code",
   "execution_count": 28,
   "id": "0773149b",
   "metadata": {},
   "outputs": [
    {
     "name": "stdout",
     "output_type": "stream",
     "text": [
      "            BOM500002  BOM500003  BOM500008  BOM500009  BOM500010\n",
      "2021-05-24     1474.8      348.9     783.75       50.7    2540.45\n"
     ]
    }
   ],
   "source": [
    "print(df)"
   ]
  },
  {
   "cell_type": "code",
   "execution_count": null,
   "id": "39b353a7",
   "metadata": {},
   "outputs": [],
   "source": []
  }
 ],
 "metadata": {
  "kernelspec": {
   "display_name": "Python 3",
   "language": "python",
   "name": "python3"
  },
  "language_info": {
   "codemirror_mode": {
    "name": "ipython",
    "version": 3
   },
   "file_extension": ".py",
   "mimetype": "text/x-python",
   "name": "python",
   "nbconvert_exporter": "python",
   "pygments_lexer": "ipython3",
   "version": "3.8.5"
  }
 },
 "nbformat": 4,
 "nbformat_minor": 5
}
