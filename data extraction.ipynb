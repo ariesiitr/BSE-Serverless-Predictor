{
 "cells": [
  {
   "cell_type": "code",
   "execution_count": 1,
   "metadata": {},
   "outputs": [],
   "source": [
    "import json\n",
    "import pandas as pd\n",
    "import numpy as np\n",
    "#import matplotlib.pyplot as plt\n",
    "#import seaborn as sns\n",
    "from datetime import date\n",
    "from datetime import timedelta\n",
    "from bsedata.bse import BSE\n",
    "    \n",
    "\n",
    "\n"
   ]
  },
  {
   "cell_type": "code",
   "execution_count": 2,
   "metadata": {},
   "outputs": [
    {
     "name": "stdout",
     "output_type": "stream",
     "text": [
      "fda\n",
      "fda\n",
      "2021-05-24\n"
     ]
    }
   ],
   "source": [
    "\n",
    "\n",
    "print(\"fda\")\n",
    "\n",
    "print(\"fda\")\n",
    "bsedata = BSE()\n",
    "# to execute \"updateScripCodes\" on instantiation\n",
    "bsedata = BSE(update_codes = True)\n",
    "\n",
    "\n",
    "\n",
    "#import pandas as pd\n",
    "from bselib.bse import BSE\n",
    "bselib = BSE()\n",
    "\n",
    "today = date.today()\n",
    "#print(\"Today's date:\", today)\n",
    "\n",
    "\n",
    "\n",
    "def lambda_handler(event, context):\n",
    "    print(today)\n",
    "\n",
    "    \n",
    "lambda_handler(1,2)\n",
    "\n",
    "\n"
   ]
  },
  {
   "cell_type": "code",
   "execution_count": null,
   "metadata": {},
   "outputs": [],
   "source": [
    "cnt=0\n",
    "price={}\n",
    "for company in bsedata.getScripCodes():\n",
    "    try:\n",
    "        q=bselib.quote(company)[\"stockPrice\"]\n",
    "        price[company]=q\n",
    "        print(company,cnt)\n",
    "        cnt=cnt+1\n",
    "    except:\n",
    "        continue\n",
    "\n",
    "            \n",
    "    if cnt>5 :\n",
    "        break\n",
    "\n",
    "\n"
   ]
  },
  {
   "cell_type": "code",
   "execution_count": null,
   "metadata": {},
   "outputs": [],
   "source": [
    "\n",
    "\n",
    "\n",
    "close=pd.DataFrame(list(price.items()),columns = [\"Company_Code\",today])\n",
    "close_transposed = close.T\n",
    "#close_transposed.to_excel(\"close.xlsx\")\n",
    "print(close_transposed)\n",
    "\n"
   ]
  }
 ],
 "metadata": {
  "kernelspec": {
   "display_name": "Python 3",
   "language": "python",
   "name": "python3"
  },
  "language_info": {
   "codemirror_mode": {
    "name": "ipython",
    "version": 3
   },
   "file_extension": ".py",
   "mimetype": "text/x-python",
   "name": "python",
   "nbconvert_exporter": "python",
   "pygments_lexer": "ipython3",
   "version": "3.8.5"
  }
 },
 "nbformat": 4,
 "nbformat_minor": 4
}
