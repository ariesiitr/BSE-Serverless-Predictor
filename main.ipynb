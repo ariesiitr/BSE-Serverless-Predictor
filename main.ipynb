{
 "cells": [
  {
   "cell_type": "markdown",
   "metadata": {},
   "source": [
    "# Importing Common Libraries"
   ]
  },
  {
   "cell_type": "code",
   "execution_count": 79,
   "metadata": {},
   "outputs": [],
   "source": [
    "import pandas as pd\n",
    "import numpy as np\n",
    "import matplotlib.pyplot as plt\n",
    "import seaborn as sns\n",
    "from datetime import date\n",
    "from datetime import timedelta\n",
    "from datetime import time\n",
    "from datetime import datetime"
   ]
  },
  {
   "cell_type": "markdown",
   "metadata": {},
   "source": [
    "# Importing Special Libraries"
   ]
  },
  {
   "cell_type": "markdown",
   "metadata": {},
   "source": [
    "## Quandl"
   ]
  },
  {
   "cell_type": "code",
   "execution_count": 2,
   "metadata": {},
   "outputs": [],
   "source": [
    "# https://algotrading101.com/learn/quandl-guide/\n",
    "import quandl\n",
    "quandl.ApiConfig.api_key = 'U4m2As16aHLxEiSQtGvn'## API Key provided after creating free ID on Quaqndl\n",
    "quandl.save_key(\"U4m2As16aHLxEiSQtGvn\")"
   ]
  },
  {
   "cell_type": "markdown",
   "metadata": {},
   "source": [
    "## bselib"
   ]
  },
  {
   "cell_type": "code",
   "execution_count": 3,
   "metadata": {},
   "outputs": [],
   "source": [
    "# https://bselib.readthedocs.io/en/latest/\n",
    "from bselib.bse import BSE\n",
    "bselib = BSE()"
   ]
  },
  {
   "cell_type": "markdown",
   "metadata": {},
   "source": [
    "# Data Extraction"
   ]
  },
  {
   "cell_type": "markdown",
   "metadata": {},
   "source": [
    "## Company 1: Reliance"
   ]
  },
  {
   "cell_type": "code",
   "execution_count": 18,
   "metadata": {},
   "outputs": [],
   "source": [
    "data1=quandl.get('BSE/BOM500325',start_date='1992/03/05')\n",
    "pd.DataFrame(data1['Open']).to_excel('data/Reliance.xlsx')"
   ]
  },
  {
   "cell_type": "code",
   "execution_count": 92,
   "metadata": {},
   "outputs": [
    {
     "data": {
      "text/html": [
       "<div>\n",
       "<style scoped>\n",
       "    .dataframe tbody tr th:only-of-type {\n",
       "        vertical-align: middle;\n",
       "    }\n",
       "\n",
       "    .dataframe tbody tr th {\n",
       "        vertical-align: top;\n",
       "    }\n",
       "\n",
       "    .dataframe thead th {\n",
       "        text-align: right;\n",
       "    }\n",
       "</style>\n",
       "<table border=\"1\" class=\"dataframe\">\n",
       "  <thead>\n",
       "    <tr style=\"text-align: right;\">\n",
       "      <th></th>\n",
       "      <th>Date</th>\n",
       "      <th>Open</th>\n",
       "    </tr>\n",
       "  </thead>\n",
       "  <tbody>\n",
       "    <tr>\n",
       "      <th>7099</th>\n",
       "      <td>2021-04-30</td>\n",
       "      <td>2014.7</td>\n",
       "    </tr>\n",
       "    <tr>\n",
       "      <th>7100</th>\n",
       "      <td>2021-05-03</td>\n",
       "      <td>1963.7</td>\n",
       "    </tr>\n",
       "    <tr>\n",
       "      <th>7101</th>\n",
       "      <td>2021-05-04</td>\n",
       "      <td>1954.0</td>\n",
       "    </tr>\n",
       "    <tr>\n",
       "      <th>7102</th>\n",
       "      <td>2021-05-05</td>\n",
       "      <td>1919.7</td>\n",
       "    </tr>\n",
       "    <tr>\n",
       "      <th>7103</th>\n",
       "      <td>2021-05-06</td>\n",
       "      <td>1926.0</td>\n",
       "    </tr>\n",
       "  </tbody>\n",
       "</table>\n",
       "</div>"
      ],
      "text/plain": [
       "           Date    Open\n",
       "7099 2021-04-30  2014.7\n",
       "7100 2021-05-03  1963.7\n",
       "7101 2021-05-04  1954.0\n",
       "7102 2021-05-05  1919.7\n",
       "7103 2021-05-06  1926.0"
      ]
     },
     "execution_count": 92,
     "metadata": {},
     "output_type": "execute_result"
    }
   ],
   "source": [
    "reliance=pd.read_excel('data/Reliance.xlsx')\n",
    "reliance.tail(5)"
   ]
  },
  {
   "cell_type": "markdown",
   "metadata": {},
   "source": [
    "### Updating data if current day is a Business Day"
   ]
  },
  {
   "cell_type": "code",
   "execution_count": 20,
   "metadata": {},
   "outputs": [],
   "source": [
    "def is_business_day(date):\n",
    "    return bool(len(pd.bdate_range(date, date)))"
   ]
  },
  {
   "cell_type": "code",
   "execution_count": 102,
   "metadata": {},
   "outputs": [
    {
     "data": {
      "text/html": [
       "<div>\n",
       "<style scoped>\n",
       "    .dataframe tbody tr th:only-of-type {\n",
       "        vertical-align: middle;\n",
       "    }\n",
       "\n",
       "    .dataframe tbody tr th {\n",
       "        vertical-align: top;\n",
       "    }\n",
       "\n",
       "    .dataframe thead th {\n",
       "        text-align: right;\n",
       "    }\n",
       "</style>\n",
       "<table border=\"1\" class=\"dataframe\">\n",
       "  <thead>\n",
       "    <tr style=\"text-align: right;\">\n",
       "      <th></th>\n",
       "      <th>Open</th>\n",
       "    </tr>\n",
       "    <tr>\n",
       "      <th>Date</th>\n",
       "      <th></th>\n",
       "    </tr>\n",
       "  </thead>\n",
       "  <tbody>\n",
       "    <tr>\n",
       "      <th>2021-04-27</th>\n",
       "      <td>1943.00</td>\n",
       "    </tr>\n",
       "    <tr>\n",
       "      <th>2021-04-28</th>\n",
       "      <td>1999.45</td>\n",
       "    </tr>\n",
       "    <tr>\n",
       "      <th>2021-04-29</th>\n",
       "      <td>2016.65</td>\n",
       "    </tr>\n",
       "    <tr>\n",
       "      <th>2021-04-30</th>\n",
       "      <td>2014.70</td>\n",
       "    </tr>\n",
       "    <tr>\n",
       "      <th>2021-05-03</th>\n",
       "      <td>1963.70</td>\n",
       "    </tr>\n",
       "    <tr>\n",
       "      <th>2021-05-04</th>\n",
       "      <td>1954.00</td>\n",
       "    </tr>\n",
       "    <tr>\n",
       "      <th>2021-05-05</th>\n",
       "      <td>1919.70</td>\n",
       "    </tr>\n",
       "    <tr>\n",
       "      <th>2021-05-06</th>\n",
       "      <td>1926.00</td>\n",
       "    </tr>\n",
       "    <tr>\n",
       "      <th>2021-05-07</th>\n",
       "      <td>1940.00</td>\n",
       "    </tr>\n",
       "    <tr>\n",
       "      <th>2021-05-07</th>\n",
       "      <td>1940.00</td>\n",
       "    </tr>\n",
       "  </tbody>\n",
       "</table>\n",
       "</div>"
      ],
      "text/plain": [
       "               Open\n",
       "Date               \n",
       "2021-04-27  1943.00\n",
       "2021-04-28  1999.45\n",
       "2021-04-29  2016.65\n",
       "2021-04-30  2014.70\n",
       "2021-05-03  1963.70\n",
       "2021-05-04  1954.00\n",
       "2021-05-05  1919.70\n",
       "2021-05-06  1926.00\n",
       "2021-05-07  1940.00\n",
       "2021-05-07  1940.00"
      ]
     },
     "execution_count": 102,
     "metadata": {},
     "output_type": "execute_result"
    }
   ],
   "source": [
    "if is_business_day(date.today()):\n",
    "    df=reliance\n",
    "    df.loc[len(df.index)]=[datetime(date.today().year,date.today().month,date.today().day),float(bselib.quote('500325')['lastOpen'])]\n",
    "    df=df.set_index('Date')\n",
    "df.tail(10)"
   ]
  },
  {
   "cell_type": "code",
   "execution_count": 99,
   "metadata": {},
   "outputs": [
    {
     "data": {
      "text/plain": [
       "<AxesSubplot:xlabel='Date'>"
      ]
     },
     "execution_count": 99,
     "metadata": {},
     "output_type": "execute_result"
    },
    {
     "data": {
      "image/png": "[encoded data removed]",
      "text/plain": [
       "<Figure size 1440x720 with 1 Axes>"
      ]
     },
     "metadata": {
      "needs_background": "light"
     },
     "output_type": "display_data"
    }
   ],
   "source": [
    "df.plot(figsize=(20,10))"
   ]
  },
  {
   "cell_type": "code",
   "execution_count": 6,
   "metadata": {},
   "outputs": [
    {
     "data": {
      "text/html": [
       "<div>\n",
       "<style scoped>\n",
       "    .dataframe tbody tr th:only-of-type {\n",
       "        vertical-align: middle;\n",
       "    }\n",
       "\n",
       "    .dataframe tbody tr th {\n",
       "        vertical-align: top;\n",
       "    }\n",
       "\n",
       "    .dataframe thead th {\n",
       "        text-align: right;\n",
       "    }\n",
       "</style>\n",
       "<table border=\"1\" class=\"dataframe\">\n",
       "  <thead>\n",
       "    <tr style=\"text-align: right;\">\n",
       "      <th></th>\n",
       "      <th>value_ratio</th>\n",
       "      <th>profit_ratio</th>\n",
       "    </tr>\n",
       "  </thead>\n",
       "  <tbody>\n",
       "    <tr>\n",
       "      <th>SecurityId</th>\n",
       "      <td>RELIANCE</td>\n",
       "      <td>NaN</td>\n",
       "    </tr>\n",
       "    <tr>\n",
       "      <th>Grp_Index</th>\n",
       "      <td>A / S&amp;P BSE SENSEX</td>\n",
       "      <td>NaN</td>\n",
       "    </tr>\n",
       "    <tr>\n",
       "      <th>FaceVal</th>\n",
       "      <td>10.00</td>\n",
       "      <td>NaN</td>\n",
       "    </tr>\n",
       "    <tr>\n",
       "      <th>SecurityCode</th>\n",
       "      <td>500325</td>\n",
       "      <td>NaN</td>\n",
       "    </tr>\n",
       "    <tr>\n",
       "      <th>ISIN</th>\n",
       "      <td>INE002A01018</td>\n",
       "      <td>NaN</td>\n",
       "    </tr>\n",
       "    <tr>\n",
       "      <th>Industry</th>\n",
       "      <td>Integrated Oil &amp; Gas</td>\n",
       "      <td>NaN</td>\n",
       "    </tr>\n",
       "    <tr>\n",
       "      <th>Group</th>\n",
       "      <td>A</td>\n",
       "      <td>NaN</td>\n",
       "    </tr>\n",
       "    <tr>\n",
       "      <th>Index</th>\n",
       "      <td>S&amp;P BSE SENSEX</td>\n",
       "      <td>NaN</td>\n",
       "    </tr>\n",
       "    <tr>\n",
       "      <th>PAIDUP_VALUE</th>\n",
       "      <td></td>\n",
       "      <td>NaN</td>\n",
       "    </tr>\n",
       "    <tr>\n",
       "      <th>EPS</th>\n",
       "      <td>48.13</td>\n",
       "      <td>48.13</td>\n",
       "    </tr>\n",
       "    <tr>\n",
       "      <th>CEPS</th>\n",
       "      <td>61.73</td>\n",
       "      <td>61.73</td>\n",
       "    </tr>\n",
       "    <tr>\n",
       "      <th>PE</th>\n",
       "      <td>39.82</td>\n",
       "      <td>39.89</td>\n",
       "    </tr>\n",
       "    <tr>\n",
       "      <th>OPM</th>\n",
       "      <td>-</td>\n",
       "      <td>11.62</td>\n",
       "    </tr>\n",
       "    <tr>\n",
       "      <th>NPM</th>\n",
       "      <td>-</td>\n",
       "      <td>8.86</td>\n",
       "    </tr>\n",
       "    <tr>\n",
       "      <th>PB</th>\n",
       "      <td>2.73</td>\n",
       "      <td>NaN</td>\n",
       "    </tr>\n",
       "    <tr>\n",
       "      <th>ROE</th>\n",
       "      <td>6.86</td>\n",
       "      <td>NaN</td>\n",
       "    </tr>\n",
       "    <tr>\n",
       "      <th>RONW</th>\n",
       "      <td>NaN</td>\n",
       "      <td>118.18</td>\n",
       "    </tr>\n",
       "  </tbody>\n",
       "</table>\n",
       "</div>"
      ],
      "text/plain": [
       "                       value_ratio  profit_ratio\n",
       "SecurityId                RELIANCE           NaN\n",
       "Grp_Index       A / S&P BSE SENSEX           NaN\n",
       "FaceVal                      10.00           NaN\n",
       "SecurityCode                500325           NaN\n",
       "ISIN                  INE002A01018           NaN\n",
       "Industry      Integrated Oil & Gas           NaN\n",
       "Group                            A           NaN\n",
       "Index               S&P BSE SENSEX           NaN\n",
       "PAIDUP_VALUE                                 NaN\n",
       "EPS                          48.13         48.13\n",
       "CEPS                         61.73         61.73\n",
       "PE                           39.82         39.89\n",
       "OPM                              -         11.62\n",
       "NPM                              -          8.86\n",
       "PB                            2.73           NaN\n",
       "ROE                           6.86           NaN\n",
       "RONW                           NaN        118.18"
      ]
     },
     "execution_count": 6,
     "metadata": {},
     "output_type": "execute_result"
    }
   ],
   "source": [
    "# Financial Ratios\n",
    "ratios = bselib.ratios(500325)\n",
    "ratios=pd.DataFrame(ratios)\n",
    "ratios"
   ]
  },
  {
   "cell_type": "code",
   "execution_count": 7,
   "metadata": {},
   "outputs": [
    {
     "data": {
      "text/plain": [
       "{'news': [{'newsid': '1f1d12e720d2dcf232bfd5b270fc4e99',\n",
       "   'category': '',\n",
       "   'description': 'RILs Rs 53,124-cr rights: Partly paid premium shrinks as call date nears  Business Standard',\n",
       "   'imagepath': '',\n",
       "   'link': 'https://www.business-standard.com/article/markets/ril-s-rs-53-124-cr-rights-partly-paid-premium-shrinks-as-call-date-nears-121050401025_1.html',\n",
       "   'newstype': 'STKNWS',\n",
       "   'publisheddate': '04-May-2021 19:00',\n",
       "   'source': 'https://www.business-standard.com',\n",
       "   'stockid': 605152,\n",
       "   'title': 'RILs Rs 53,124-cr rights: Partly paid premium shrinks as call date nears'},\n",
       "  {'newsid': '33779c2e86447b43acbe4115f26f4d12',\n",
       "   'category': '',\n",
       "   'description': 'Stocks to Watch: RIL, Adani Ports and SEZ, ICICI Bank, Bajaj Auto  Mint',\n",
       "   'imagepath': '',\n",
       "   'link': 'https://www.livemint.com/market/stock-market-news/stocks-to-watch-ril-adani-ports-and-sez-icici-bank-bajaj-auto-11620091949109.html',\n",
       "   'newstype': 'STKNWS',\n",
       "   'publisheddate': '04-May-2021 07:30',\n",
       "   'source': 'https://www.livemint.com',\n",
       "   'stockid': 605152,\n",
       "   'title': 'Stocks to Watch: RIL, Adani Ports and SEZ, ICICI Bank, Bajaj Auto'},\n",
       "  {'newsid': '64faa955f7c6a2c3ed531a2ba413481d',\n",
       "   'category': '',\n",
       "   'description': 'RIL share price falls for 2nd straight day after Q4 results; charts show it may fall more  The Financial Express',\n",
       "   'imagepath': '',\n",
       "   'link': 'https://www.financialexpress.com/market/ril-share-price-falls-for-2nd-straight-day-after-q4-results-charts-show-reliance-industries-ltd-stock-may-fall-more/2245488/',\n",
       "   'newstype': 'STKNWS',\n",
       "   'publisheddate': '04-May-2021 11:13',\n",
       "   'source': 'https://www.financialexpress.com',\n",
       "   'stockid': 605152,\n",
       "   'title': 'RIL share price falls for 2nd straight day after Q4 results; charts show it may fall more'},\n",
       "  {'newsid': '376526f6d6b5c8253c58a87de887da1f',\n",
       "   'category': '',\n",
       "   'description': 'Markets recoup initial losses to end flat; Reliance, banks perform poorly  Business Standard',\n",
       "   'imagepath': '',\n",
       "   'link': 'https://www.business-standard.com/article/markets/markets-recoup-initial-losses-to-end-flat-reliance-banks-perform-poorly-121050400015_1.html',\n",
       "   'newstype': 'STKNWS',\n",
       "   'publisheddate': '04-May-2021 00:15',\n",
       "   'source': 'https://www.business-standard.com',\n",
       "   'stockid': 605152,\n",
       "   'title': 'Markets recoup initial losses to end flat; Reliance, banks perform poorly'}]}"
      ]
     },
     "execution_count": 7,
     "metadata": {},
     "output_type": "execute_result"
    }
   ],
   "source": [
    "# News\n",
    "news = bselib.news(500325)\n",
    "news"
   ]
  },
  {
   "cell_type": "markdown",
   "metadata": {},
   "source": [
    "# Factor 1: Daily Price Prediction"
   ]
  },
  {
   "cell_type": "code",
   "execution_count": 107,
   "metadata": {},
   "outputs": [
    {
     "data": {
      "text/plain": [
       "array([[ 365.],\n",
       "       [ 330.],\n",
       "       [ 285.],\n",
       "       ...,\n",
       "       [1926.],\n",
       "       [1940.],\n",
       "       [1940.]])"
      ]
     },
     "execution_count": 107,
     "metadata": {},
     "output_type": "execute_result"
    }
   ],
   "source": [
    "training_set=df.iloc[:,0:1].values\n",
    "training_set"
   ]
  },
  {
   "cell_type": "code",
   "execution_count": 108,
   "metadata": {},
   "outputs": [
    {
     "data": {
      "text/plain": [
       "array([[0.08374038],\n",
       "       [0.07256648],\n",
       "       [0.05820004],\n",
       "       ...,\n",
       "       [0.58209622],\n",
       "       [0.58656578],\n",
       "       [0.58656578]])"
      ]
     },
     "execution_count": 108,
     "metadata": {},
     "output_type": "execute_result"
    }
   ],
   "source": [
    "from sklearn.preprocessing import MinMaxScaler\n",
    "sc=MinMaxScaler(feature_range=(0,1),copy=True)\n",
    "training_set_scaled=sc.fit_transform(training_set)\n",
    "training_set_scaled"
   ]
  },
  {
   "cell_type": "markdown",
   "metadata": {
    "colab_type": "text",
    "id": "JyYgYocqhNUg"
   },
   "source": [
    "### Creating a data structure with 60 timesteps and 1 output"
   ]
  },
  {
   "cell_type": "code",
   "execution_count": 109,
   "metadata": {
    "colab": {},
    "colab_type": "code",
    "id": "iofU21B0i6ST"
   },
   "outputs": [],
   "source": [
    "import numpy as np\n",
    "X_train=[]\n",
    "y_train=[]\n",
    "for i in range(60,len(training_set_scaled)):\n",
    "    X_train.append(training_set_scaled[i-60:i,0])\n",
    "    y_train.append(training_set_scaled[i,0])\n",
    "X_train,y_train=np.array(X_train),np.array(y_train)"
   ]
  },
  {
   "cell_type": "markdown",
   "metadata": {
    "colab_type": "text",
    "id": "D8yaN7Zvi95l"
   },
   "source": [
    "### Reshaping"
   ]
  },
  {
   "cell_type": "code",
   "execution_count": 110,
   "metadata": {
    "colab": {},
    "colab_type": "code",
    "id": "FOXqJHmNjBkz"
   },
   "outputs": [],
   "source": [
    "X_train = np.reshape(X_train, (X_train.shape[0], X_train.shape[1], 1))"
   ]
  },
  {
   "cell_type": "markdown",
   "metadata": {
    "colab_type": "text",
    "id": "ZRRSOJeVjEWV"
   },
   "source": [
    "## Part 2 - Building and Training the RNN"
   ]
  },
  {
   "cell_type": "markdown",
   "metadata": {
    "colab_type": "text",
    "id": "k4XV88JMjHXG"
   },
   "source": [
    "### Importing the Keras libraries and packages"
   ]
  },
  {
   "cell_type": "code",
   "execution_count": 111,
   "metadata": {
    "colab": {
     "base_uri": "https://localhost:8080/",
     "height": 34
    },
    "colab_type": "code",
    "id": "9JRnqsxEjKsD",
    "outputId": "b3e23e78-18aa-4396-c923-c877b8de60e4"
   },
   "outputs": [],
   "source": [
    "from keras.models import Sequential\n",
    "from keras.layers import Dense\n",
    "from keras.layers import LSTM\n",
    "from keras.layers import Dropout"
   ]
  },
  {
   "cell_type": "markdown",
   "metadata": {
    "colab_type": "text",
    "id": "FEIE-1s9jNzC"
   },
   "source": [
    "### Initialising the RNN"
   ]
  },
  {
   "cell_type": "code",
   "execution_count": 120,
   "metadata": {
    "colab": {},
    "colab_type": "code",
    "id": "1338dJ0UjRKH"
   },
   "outputs": [],
   "source": [
    "regressor = Sequential()"
   ]
  },
  {
   "cell_type": "markdown",
   "metadata": {
    "colab_type": "text",
    "id": "62eg1OPGjT8z"
   },
   "source": [
    "### Adding the first LSTM layer and some Dropout regularisation"
   ]
  },
  {
   "cell_type": "code",
   "execution_count": 121,
   "metadata": {
    "colab": {},
    "colab_type": "code",
    "id": "2hIinyXUjbVU"
   },
   "outputs": [],
   "source": [
    "regressor.add(LSTM(units = 50, return_sequences = True, input_shape = (X_train.shape[1], 1)))\n",
    "regressor.add(Dropout(0.2))"
   ]
  },
  {
   "cell_type": "markdown",
   "metadata": {
    "colab_type": "text",
    "id": "3XBIYLyOjlMx"
   },
   "source": [
    "### Adding a second LSTM layer and some Dropout regularisation"
   ]
  },
  {
   "cell_type": "code",
   "execution_count": 122,
   "metadata": {
    "colab": {},
    "colab_type": "code",
    "id": "UG7nrVaSjuZ2"
   },
   "outputs": [],
   "source": [
    "regressor.add(LSTM(units = 50, return_sequences = True))\n",
    "regressor.add(Dropout(0.2))"
   ]
  },
  {
   "cell_type": "markdown",
   "metadata": {
    "colab_type": "text",
    "id": "Ey3fHVnGj1cu"
   },
   "source": [
    "### Adding a third LSTM layer and some Dropout regularisation"
   ]
  },
  {
   "cell_type": "code",
   "execution_count": 123,
   "metadata": {
    "colab": {},
    "colab_type": "code",
    "id": "PuNi6PgFj7jO"
   },
   "outputs": [],
   "source": [
    "regressor.add(LSTM(units = 50, return_sequences = True))\n",
    "regressor.add(Dropout(0.2))"
   ]
  },
  {
   "cell_type": "markdown",
   "metadata": {
    "colab_type": "text",
    "id": "SYTrtfTmj933"
   },
   "source": [
    "### Adding a fourth LSTM layer and some Dropout regularisation"
   ]
  },
  {
   "cell_type": "code",
   "execution_count": 124,
   "metadata": {
    "colab": {},
    "colab_type": "code",
    "id": "Jp4Ty8fRkBYV"
   },
   "outputs": [],
   "source": [
    "regressor.add(LSTM(units = 50))\n",
    "regressor.add(Dropout(0.2))"
   ]
  },
  {
   "cell_type": "markdown",
   "metadata": {
    "colab_type": "text",
    "id": "9ABI6rOIkHhk"
   },
   "source": [
    "### Adding the output layer"
   ]
  },
  {
   "cell_type": "code",
   "execution_count": 125,
   "metadata": {
    "colab": {},
    "colab_type": "code",
    "id": "aM6R1z4WkME8"
   },
   "outputs": [],
   "source": [
    "regressor.add(Dense(units = 1))"
   ]
  },
  {
   "cell_type": "markdown",
   "metadata": {
    "colab_type": "text",
    "id": "zLx4K7uUkPSh"
   },
   "source": [
    "### Compiling the RNN"
   ]
  },
  {
   "cell_type": "code",
   "execution_count": 126,
   "metadata": {
    "colab": {},
    "colab_type": "code",
    "id": "XTrhVN-tkbko"
   },
   "outputs": [],
   "source": [
    "regressor.compile(optimizer = 'adam', loss = 'mean_squared_error')"
   ]
  },
  {
   "cell_type": "markdown",
   "metadata": {
    "colab_type": "text",
    "id": "-mPhwKGkkebi"
   },
   "source": [
    "### Fitting the RNN to the Training set"
   ]
  },
  {
   "cell_type": "code",
   "execution_count": 127,
   "metadata": {
    "colab": {
     "base_uri": "https://localhost:8080/",
     "height": 1000
    },
    "colab_type": "code",
    "id": "I06Nkrz5kkb-",
    "outputId": "dc9d947a-4d5c-4dbc-ed45-31bf44b98dfb"
   },
   "outputs": [
    {
     "name": "stdout",
     "output_type": "stream",
     "text": [
      "Epoch 1/25\n",
      "221/221 [==============================] - 17s 49ms/step - loss: 0.0077\n",
      "Epoch 2/25\n",
      "221/221 [==============================] - 14s 65ms/step - loss: 0.0016\n",
      "Epoch 3/25\n",
      "221/221 [==============================] - 14s 65ms/step - loss: 0.0014\n",
      "Epoch 4/25\n",
      "221/221 [==============================] - 15s 67ms/step - loss: 0.0012\n",
      "Epoch 5/25\n",
      "221/221 [==============================] - 15s 69ms/step - loss: 0.0011\n",
      "Epoch 6/25\n",
      "221/221 [==============================] - 15s 68ms/step - loss: 0.0011\n",
      "Epoch 7/25\n",
      "221/221 [==============================] - 15s 68ms/step - loss: 0.0010\n",
      "Epoch 8/25\n",
      "221/221 [==============================] - 14s 65ms/step - loss: 7.9847e-04\n",
      "Epoch 9/25\n",
      "221/221 [==============================] - 15s 66ms/step - loss: 8.4273e-04\n",
      "Epoch 10/25\n",
      "221/221 [==============================] - 14s 66ms/step - loss: 8.1579e-04\n",
      "Epoch 11/25\n",
      "221/221 [==============================] - 14s 66ms/step - loss: 7.5034e-04\n",
      "Epoch 12/25\n",
      "221/221 [==============================] - 15s 67ms/step - loss: 7.4980e-04\n",
      "Epoch 13/25\n",
      "221/221 [==============================] - 14s 65ms/step - loss: 7.8357e-04\n",
      "Epoch 14/25\n",
      "221/221 [==============================] - 14s 66ms/step - loss: 6.0259e-04\n",
      "Epoch 15/25\n",
      "221/221 [==============================] - 15s 67ms/step - loss: 6.8125e-04\n",
      "Epoch 16/25\n",
      "221/221 [==============================] - 15s 66ms/step - loss: 6.0355e-04\n",
      "Epoch 17/25\n",
      "221/221 [==============================] - 15s 66ms/step - loss: 7.3446e-04\n",
      "Epoch 18/25\n",
      "221/221 [==============================] - 15s 66ms/step - loss: 6.5221e-04\n",
      "Epoch 19/25\n",
      "221/221 [==============================] - 15s 66ms/step - loss: 5.8603e-04\n",
      "Epoch 20/25\n",
      "221/221 [==============================] - 15s 66ms/step - loss: 6.7221e-04\n",
      "Epoch 21/25\n",
      "221/221 [==============================] - 15s 66ms/step - loss: 7.1489e-04\n",
      "Epoch 22/25\n",
      "221/221 [==============================] - 15s 66ms/step - loss: 5.4979e-04\n",
      "Epoch 23/25\n",
      "221/221 [==============================] - 15s 66ms/step - loss: 5.2803e-04\n",
      "Epoch 24/25\n",
      "221/221 [==============================] - 15s 66ms/step - loss: 6.2614e-04\n",
      "Epoch 25/25\n",
      "221/221 [==============================] - 15s 66ms/step - loss: 6.4076e-04\n"
     ]
    },
    {
     "data": {
      "text/plain": [
       "<tensorflow.python.keras.callbacks.History at 0x24a7ab210d0>"
      ]
     },
     "execution_count": 127,
     "metadata": {},
     "output_type": "execute_result"
    }
   ],
   "source": [
    "regressor.fit(X_train, y_train, epochs = 25, batch_size = 32)"
   ]
  },
  {
   "cell_type": "code",
   "execution_count": 128,
   "metadata": {},
   "outputs": [],
   "source": [
    "y_pred=regressor.predict(X_train)\n",
    "y_pred=sc.inverse_transform(y_pred)"
   ]
  },
  {
   "cell_type": "code",
   "execution_count": 129,
   "metadata": {},
   "outputs": [],
   "source": [
    "y_real=sc.inverse_transform([y_train])"
   ]
  },
  {
   "cell_type": "code",
   "execution_count": 151,
   "metadata": {},
   "outputs": [
    {
     "data": {
      "text/html": [
       "<div>\n",
       "<style scoped>\n",
       "    .dataframe tbody tr th:only-of-type {\n",
       "        vertical-align: middle;\n",
       "    }\n",
       "\n",
       "    .dataframe tbody tr th {\n",
       "        vertical-align: top;\n",
       "    }\n",
       "\n",
       "    .dataframe thead th {\n",
       "        text-align: right;\n",
       "    }\n",
       "</style>\n",
       "<table border=\"1\" class=\"dataframe\">\n",
       "  <thead>\n",
       "    <tr style=\"text-align: right;\">\n",
       "      <th></th>\n",
       "      <th>Real Price</th>\n",
       "      <th>Predicted Price</th>\n",
       "    </tr>\n",
       "  </thead>\n",
       "  <tbody>\n",
       "    <tr>\n",
       "      <th>7041</th>\n",
       "      <td>1954.0</td>\n",
       "      <td>1898.183350</td>\n",
       "    </tr>\n",
       "    <tr>\n",
       "      <th>7042</th>\n",
       "      <td>1919.7</td>\n",
       "      <td>1877.308960</td>\n",
       "    </tr>\n",
       "    <tr>\n",
       "      <th>7043</th>\n",
       "      <td>1926.0</td>\n",
       "      <td>1851.774048</td>\n",
       "    </tr>\n",
       "    <tr>\n",
       "      <th>7044</th>\n",
       "      <td>1940.0</td>\n",
       "      <td>1836.009766</td>\n",
       "    </tr>\n",
       "    <tr>\n",
       "      <th>7045</th>\n",
       "      <td>1940.0</td>\n",
       "      <td>1835.750000</td>\n",
       "    </tr>\n",
       "  </tbody>\n",
       "</table>\n",
       "</div>"
      ],
      "text/plain": [
       "      Real Price  Predicted Price\n",
       "7041      1954.0      1898.183350\n",
       "7042      1919.7      1877.308960\n",
       "7043      1926.0      1851.774048\n",
       "7044      1940.0      1836.009766\n",
       "7045      1940.0      1835.750000"
      ]
     },
     "execution_count": 151,
     "metadata": {},
     "output_type": "execute_result"
    }
   ],
   "source": [
    "results=pd.concat([pd.DataFrame(y_real).T,pd.DataFrame(y_pred)],axis='columns')\n",
    "results.columns=['Real Price','Predicted Price']\n",
    "results.tail(5)"
   ]
  },
  {
   "cell_type": "code",
   "execution_count": 152,
   "metadata": {},
   "outputs": [
    {
     "data": {
      "text/html": [
       "<div>\n",
       "<style scoped>\n",
       "    .dataframe tbody tr th:only-of-type {\n",
       "        vertical-align: middle;\n",
       "    }\n",
       "\n",
       "    .dataframe tbody tr th {\n",
       "        vertical-align: top;\n",
       "    }\n",
       "\n",
       "    .dataframe thead th {\n",
       "        text-align: right;\n",
       "    }\n",
       "</style>\n",
       "<table border=\"1\" class=\"dataframe\">\n",
       "  <thead>\n",
       "    <tr style=\"text-align: right;\">\n",
       "      <th></th>\n",
       "      <th>Real Price</th>\n",
       "      <th>Predicted Price</th>\n",
       "    </tr>\n",
       "    <tr>\n",
       "      <th>Date</th>\n",
       "      <th></th>\n",
       "      <th></th>\n",
       "    </tr>\n",
       "  </thead>\n",
       "  <tbody>\n",
       "    <tr>\n",
       "      <th>2021-04-27</th>\n",
       "      <td>1943.00</td>\n",
       "      <td>1821.004150</td>\n",
       "    </tr>\n",
       "    <tr>\n",
       "      <th>2021-04-28</th>\n",
       "      <td>1999.45</td>\n",
       "      <td>1831.771484</td>\n",
       "    </tr>\n",
       "    <tr>\n",
       "      <th>2021-04-29</th>\n",
       "      <td>2016.65</td>\n",
       "      <td>1858.645630</td>\n",
       "    </tr>\n",
       "    <tr>\n",
       "      <th>2021-04-30</th>\n",
       "      <td>2014.70</td>\n",
       "      <td>1888.614624</td>\n",
       "    </tr>\n",
       "    <tr>\n",
       "      <th>2021-05-03</th>\n",
       "      <td>1963.70</td>\n",
       "      <td>1906.934570</td>\n",
       "    </tr>\n",
       "    <tr>\n",
       "      <th>2021-05-04</th>\n",
       "      <td>1954.00</td>\n",
       "      <td>1898.183350</td>\n",
       "    </tr>\n",
       "    <tr>\n",
       "      <th>2021-05-05</th>\n",
       "      <td>1919.70</td>\n",
       "      <td>1877.308960</td>\n",
       "    </tr>\n",
       "    <tr>\n",
       "      <th>2021-05-06</th>\n",
       "      <td>1926.00</td>\n",
       "      <td>1851.774048</td>\n",
       "    </tr>\n",
       "    <tr>\n",
       "      <th>2021-05-07</th>\n",
       "      <td>1940.00</td>\n",
       "      <td>1836.009766</td>\n",
       "    </tr>\n",
       "    <tr>\n",
       "      <th>2021-05-07</th>\n",
       "      <td>1940.00</td>\n",
       "      <td>1835.750000</td>\n",
       "    </tr>\n",
       "  </tbody>\n",
       "</table>\n",
       "</div>"
      ],
      "text/plain": [
       "            Real Price  Predicted Price\n",
       "Date                                   \n",
       "2021-04-27     1943.00      1821.004150\n",
       "2021-04-28     1999.45      1831.771484\n",
       "2021-04-29     2016.65      1858.645630\n",
       "2021-04-30     2014.70      1888.614624\n",
       "2021-05-03     1963.70      1906.934570\n",
       "2021-05-04     1954.00      1898.183350\n",
       "2021-05-05     1919.70      1877.308960\n",
       "2021-05-06     1926.00      1851.774048\n",
       "2021-05-07     1940.00      1836.009766\n",
       "2021-05-07     1940.00      1835.750000"
      ]
     },
     "execution_count": 152,
     "metadata": {},
     "output_type": "execute_result"
    }
   ],
   "source": [
    "l=df.index\n",
    "l=l[60:]\n",
    "results.index=l\n",
    "results.tail(10)"
   ]
  },
  {
   "cell_type": "code",
   "execution_count": 153,
   "metadata": {},
   "outputs": [
    {
     "data": {
      "text/plain": [
       "<AxesSubplot:xlabel='Date'>"
      ]
     },
     "execution_count": 153,
     "metadata": {},
     "output_type": "execute_result"
    },
    {
     "data": {
      "image/png": "[encoded data removed]",
      "text/plain": [
       "<Figure size 1440x720 with 1 Axes>"
      ]
     },
     "metadata": {
      "needs_background": "light"
     },
     "output_type": "display_data"
    }
   ],
   "source": [
    "results.plot(figsize=(20,10))"
   ]
  },
  {
   "cell_type": "markdown",
   "metadata": {},
   "source": [
    "### Tomorrow's Prediction"
   ]
  },
  {
   "cell_type": "code",
   "execution_count": 167,
   "metadata": {},
   "outputs": [],
   "source": [
    "X_test=[]\n",
    "X_test.append(training_set_scaled[len(training_set_scaled)-60:len(training_set_scaled),0])\n",
    "X_test=np.array(X_test)\n",
    "X_test = np.reshape(X_test, (X_test.shape[0], X_test.shape[1], 1))\n",
    "y_test=regressor.predict(X_test)\n",
    "y_test=sc.inverse_transform(y_test)"
   ]
  },
  {
   "cell_type": "code",
   "execution_count": 168,
   "metadata": {},
   "outputs": [
    {
     "data": {
      "text/plain": [
       "array([[1843.0377]], dtype=float32)"
      ]
     },
     "execution_count": 168,
     "metadata": {},
     "output_type": "execute_result"
    }
   ],
   "source": [
    "y_test"
   ]
  },
  {
   "cell_type": "code",
   "execution_count": null,
   "metadata": {},
   "outputs": [],
   "source": []
  }
 ],
 "metadata": {
  "kernelspec": {
   "display_name": "Python 3",
   "language": "python",
   "name": "python3"
  },
  "language_info": {
   "codemirror_mode": {
    "name": "ipython",
    "version": 3
   },
   "file_extension": ".py",
   "mimetype": "text/x-python",
   "name": "python",
   "nbconvert_exporter": "python",
   "pygments_lexer": "ipython3",
   "version": "3.8.5"
  }
 },
 "nbformat": 4,
 "nbformat_minor": 4
}
